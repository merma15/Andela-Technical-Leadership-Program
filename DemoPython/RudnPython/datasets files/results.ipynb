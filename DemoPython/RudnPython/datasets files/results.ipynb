{
  "nbformat": 4,
  "nbformat_minor": 0,
  "metadata": {
    "colab": {
      "provenance": []
    },
    "kernelspec": {
      "name": "python3",
      "display_name": "Python 3"
    },
    "language_info": {
      "name": "python"
    }
  },
  "cells": [
    {
      "cell_type": "markdown",
      "source": [
        "# Практическая работа №2 \"Функции и блочная организация программы\""
      ],
      "metadata": {
        "id": "smPkfGxiljT_"
      }
    },
    {
      "cell_type": "markdown",
      "source": [
        "Выполнил студент:"
      ],
      "metadata": {
        "id": "mn6_ssMilu7u"
      }
    },
    {
      "cell_type": "markdown",
      "source": [
        "# Теория"
      ],
      "metadata": {
        "id": "wFzvO4tzlyD_"
      }
    },
    {
      "cell_type": "code",
      "source": [
        "def f():\n",
        "  print('ok')"
      ],
      "metadata": {
        "id": "ZdnZ7aplluQB"
      },
      "execution_count": null,
      "outputs": []
    },
    {
      "cell_type": "code",
      "source": [
        "f()"
      ],
      "metadata": {
        "colab": {
          "base_uri": "https://localhost:8080/"
        },
        "id": "q1Ijl1wor2Kx",
        "outputId": "6b25f28f-ba3e-4c75-c97f-1f5842d6c0ba"
      },
      "execution_count": null,
      "outputs": [
        {
          "output_type": "stream",
          "name": "stdout",
          "text": [
            "ok\n"
          ]
        }
      ]
    },
    {
      "cell_type": "code",
      "source": [
        "def f1(x, y):\n",
        "  print(x + y)\n",
        "\n",
        "def f2(x, y):\n",
        "  return x + y"
      ],
      "metadata": {
        "id": "Ct2CBaxFr4iG"
      },
      "execution_count": null,
      "outputs": []
    },
    {
      "cell_type": "code",
      "source": [
        "print(f1(2, 3))\n",
        "print(f2(2, 3) * 2)"
      ],
      "metadata": {
        "colab": {
          "base_uri": "https://localhost:8080/"
        },
        "id": "KhQMluvlsEQ5",
        "outputId": "05f6dd88-7521-4ab8-d8b5-94496bb704ea"
      },
      "execution_count": null,
      "outputs": [
        {
          "output_type": "stream",
          "name": "stdout",
          "text": [
            "5\n",
            "None\n",
            "10\n"
          ]
        }
      ]
    },
    {
      "cell_type": "code",
      "source": [
        "def f3(n):\n",
        "  if n < 2:\n",
        "    print(1)\n",
        "    return 1\n",
        "  else:\n",
        "    print(n - 1)\n",
        "    return f3(n - 1)"
      ],
      "metadata": {
        "id": "YeASZFNrtHuw"
      },
      "execution_count": null,
      "outputs": []
    },
    {
      "cell_type": "code",
      "source": [
        "print(f3(5))"
      ],
      "metadata": {
        "colab": {
          "base_uri": "https://localhost:8080/"
        },
        "id": "Akio8JzPtWqB",
        "outputId": "ea632903-1f43-4549-e0a6-d147c72b7465"
      },
      "execution_count": null,
      "outputs": [
        {
          "output_type": "stream",
          "name": "stdout",
          "text": [
            "4\n",
            "3\n",
            "2\n",
            "1\n",
            "1\n",
            "1\n"
          ]
        }
      ]
    },
    {
      "cell_type": "markdown",
      "source": [
        "# Практика"
      ],
      "metadata": {
        "id": "39azKwxAl0M9"
      }
    },
    {
      "cell_type": "markdown",
      "source": [
        "№1 Дано действительное число А. Вычислить f(A), если f(x)=x2+4x+5 , при x<=2; в противном случае f(x)=1/(x2+4x+5).  "
      ],
      "metadata": {
        "id": "rX46bjDDl3L1"
      }
    },
    {
      "cell_type": "code",
      "source": [
        "def function(x):\n",
        "  a = x**2 + 4*x + 5\n",
        "  if x <= 2:\n",
        "    return a\n",
        "  else:\n",
        "    return 1 / a\n",
        "\n",
        "c = float(input())\n",
        "print(function(c))"
      ],
      "metadata": {
        "id": "3wx5n8Pvl2Vt",
        "colab": {
          "base_uri": "https://localhost:8080/"
        },
        "outputId": "24f8922e-7bfc-4c5a-d64c-dcaffbfc6f08"
      },
      "execution_count": null,
      "outputs": [
        {
          "output_type": "stream",
          "name": "stdout",
          "text": [
            "17\n",
            "0.0027624309392265192\n"
          ]
        }
      ]
    },
    {
      "cell_type": "markdown",
      "source": [
        "№2 Дано действительное положительное число x и целоe число n.\n",
        "\n",
        "Вычислите xn. Решение оформите в виде функции power(x, n).\n",
        "\n",
        "Стандартной функцией возведения в степень пользоваться нельзя."
      ],
      "metadata": {
        "id": "tE65UwAXl86O"
      }
    },
    {
      "cell_type": "code",
      "source": [
        "def power(x, n):\n",
        "  if n == 0:\n",
        "    return 1\n",
        "  elif n > 0:\n",
        "    return x * power(x, n - 1)\n",
        "  else:\n",
        "    return 1 / power(x, -n)\n",
        "\n",
        "gv_base = float(input())\n",
        "gv_power = int(input())\n",
        "print(power(gv_base, gv_power))\n",
        "\n"
      ],
      "metadata": {
        "id": "qVejBqntmO0N",
        "colab": {
          "base_uri": "https://localhost:8080/"
        },
        "outputId": "4f5c1520-5b24-474e-d938-b507e61ff372"
      },
      "execution_count": 70,
      "outputs": [
        {
          "output_type": "stream",
          "name": "stdout",
          "text": [
            "4\n",
            "-2\n",
            "0.0625\n"
          ]
        }
      ]
    },
    {
      "cell_type": "markdown",
      "source": [
        "№3 Напишите функцию fib(n), которая по данному целому неотрицательному n возвращает n-e число Фибоначчи. В этой задаче нельзя использовать циклы — используйте рекурсию."
      ],
      "metadata": {
        "id": "R9a472K6mPSh"
      }
    },
    {
      "cell_type": "code",
      "source": [
        "# Recursion Relation is a programming technique where a function calls itself in order to solve a problem.\n",
        "\n",
        "# With Recursion\n",
        "def fib(n):\n",
        "  if n <= 1:\n",
        "    return n\n",
        "  else:\n",
        "    return (fib(n - 1) + fib(n - 2))\n",
        "any_num = int(input())\n",
        "print(fib(any_num))\n",
        "\n",
        "# with Recursion\n",
        "# def fibonacci(n):\n",
        "  # i, j = 0, 1\n",
        "  # for k in range(n):\n",
        "    # i, j = j, i + j\n",
        "    # print(j, end=' ')\n",
        "\n",
        "# given_num = int(input())\n",
        "# fibonacci(given_num)"
      ],
      "metadata": {
        "id": "clW1X0Hst_9V",
        "colab": {
          "base_uri": "https://localhost:8080/"
        },
        "outputId": "a316e697-7109-4317-a09e-3fbbd1959206"
      },
      "execution_count": 85,
      "outputs": [
        {
          "output_type": "stream",
          "name": "stdout",
          "text": [
            "7\n",
            "13\n"
          ]
        }
      ]
    },
    {
      "cell_type": "code",
      "source": [],
      "metadata": {
        "id": "oCxIJkSYmY2v"
      },
      "execution_count": null,
      "outputs": []
    },
    {
      "cell_type": "markdown",
      "source": [
        "№4 Дано действительное положительное число x и целое неотрицательное число n. Вычислите an не используя циклы, возведение в степень через ** и функцию math.pow(), x используя рекуррентное соотношение xn=x⋅xn-1.\n",
        "\n",
        "Решение оформите в виде функции pwr(x, n)"
      ],
      "metadata": {
        "id": "TwWSm3eumZb9"
      }
    },
    {
      "cell_type": "code",
      "source": [
        "from prompt_toolkit.application.application import E\n",
        "def pwr(x, n):\n",
        "  if n == 0:\n",
        "    return 1\n",
        "  elif n >= 1:\n",
        "    return x * pwr(x, n - 1)\n",
        "  else:\n",
        "    return 1 / (x * pwr(x, - n - 1))\n",
        "\n",
        "\n",
        "given_base = float(input())\n",
        "given_power = int(input())\n",
        "print(pwr(given_base, given_power))"
      ],
      "metadata": {
        "id": "3rDYpFMGmo5F",
        "colab": {
          "base_uri": "https://localhost:8080/"
        },
        "outputId": "ad561e95-61c6-4578-ba10-dd2cb2cc6d98"
      },
      "execution_count": 84,
      "outputs": [
        {
          "output_type": "stream",
          "name": "stdout",
          "text": [
            "4\n",
            "-4\n",
            "0.00390625\n"
          ]
        }
      ]
    }
  ]
}