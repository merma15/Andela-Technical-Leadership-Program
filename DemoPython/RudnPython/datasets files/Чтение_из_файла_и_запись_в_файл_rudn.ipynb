{
  "cells": [
    {
      "cell_type": "markdown",
      "metadata": {
        "id": "Ohp6DlW-bPGu"
      },
      "source": [
        "## С какими файлами мы будем работать\n",
        "\n",
        "### файлы с расширением .txt — текстовые файлы\n",
        "Используются для хранения неструктурированной информации в виде текста. Их можно открыть в любом текстовом редакторе (например, Блокноте). В конце таких файлов лучше оставлять перенос строки, чтобы последней была пустая строка. Это нужно для того, чтобы избежать ошибок при чтении файла. Также его следует сохранять в той же кодировке, в которой собираетесь работать (в нашем случае это UTF-8).\n",
        "\n",
        "### файлы с расширением .csv — Comma-Separated Values (значения, разделённые запятыми)\n",
        "Используются для хранения табличных данных. Данные записаны по строкам, а разделение по столбцам происходит с помощью запятых, отделяющих значения друг от друга. При необходимости разделитель можно поменять: вместо запятой могут стоять, например, точка с запятой или пробел. Главное, чтобы сохранялась структура строк и столбцов. Тогда эти файлы можно будет открыть не только текстовом редакторе (например, Блокноте), но и в редакторе таблиц (например, Excel и Google Sheets) — чтобы получить классическое табличное представление. В конце таких файлов также лучше ставить перенос строки и сохранять в нужной кодировке."
      ]
    },
    {
      "cell_type": "markdown",
      "metadata": {
        "id": "IYsm3P9ZbPGv"
      },
      "source": [
        "## Общая информация о чтении из файла и записи в файл"
      ]
    },
    {
      "cell_type": "markdown",
      "metadata": {
        "id": "VC03XJArK0D4"
      },
      "source": [
        "# Чтение из файла\n",
        "\n",
        "_Примечание: если вы вдруг работаете не в Jupyter, а в Google Collaboratory, то сейчас лучше все же перейти в Jupyter, чтобы избежать сложностей с тем, что у онлайн-лаборатории нет доступа к другим файлам на вашем Google-диске._\n",
        "\n",
        "## считать .txt\n",
        "Существуют разные способы открыть файл. Мы воспользуемся тем, который сам же и закроет файл. Это удобно, так как если забыть закрыть файл, можно потерять данные — особенно при записи. Конструкция `with open() as` открывает файл, позволяет взять из него все, что нужно, и закрывает файл.\n",
        "\n",
        "В `open()` передаем название файла (который лежит в той же папке, что и код), а после `as` пишем псевдоним, с помощью которого будем обращаться к файлу внутри программы."
      ]
    },
    {
      "cell_type": "code",
      "execution_count": null,
      "metadata": {
        "id": "lg3XDE8xbPGx",
        "outputId": "8079ff7c-f885-455b-d35a-c77b8c1652d9"
      },
      "outputs": [
        {
          "name": "stdout",
          "output_type": "stream",
          "text": [
            "<_io.TextIOWrapper name='text_file.txt' mode='r' encoding='UTF-8'>\n"
          ]
        }
      ],
      "source": [
        "with open('text.txt') as infile: # Открываем файл: пишем название файла и выбираем ему псевдоним\n",
        "    print(infile)                     # Пробуем распечатать считанный файл"
      ]
    },
    {
      "cell_type": "markdown",
      "metadata": {
        "id": "ZKkyQM7mbPG4"
      },
      "source": [
        "При попытке распечатать считанный файл получаем следующую информацию:\n",
        "\n",
        "* `_io.TextIOWrapper` — это служебная информация о том, как Python внутри себя видит файл;\n",
        "* `name='text_file.txt'` показывает имя исходного текстового файла, для которого мы выбрали псевдоним `infile`;\n",
        "* `mode='r'` означает, что мы открыли этот файл только для чтения (`'r'` — _read_);\n",
        "* `encoding='UTF-8'` показывает, что файл имеет кодировку UTF-8.\n",
        "\n",
        "Мы могли бы прописать эти параметры в явном виде. Если возникают проблемы с кодировкой (содержимое файла отображается непонятными значками вместо букв), нужно указывать требуемую кодировку как раз таким образом."
      ]
    },
    {
      "cell_type": "code",
      "execution_count": null,
      "metadata": {
        "id": "0mZhpiKUbPG5",
        "outputId": "6b7ba930-6fff-4b1b-9208-93ae0edf740a"
      },
      "outputs": [
        {
          "name": "stdout",
          "output_type": "stream",
          "text": [
            "<_io.TextIOWrapper name='text_file.txt' mode='r' encoding='UTF-8'>\n"
          ]
        }
      ],
      "source": [
        "with open('text.txt', mode='r', encoding='UTF-8') as infile: # Прописываем все параметры в явном виде\n",
        "    print(infile)"
      ]
    },
    {
      "cell_type": "markdown",
      "metadata": {
        "id": "7Umy_6hTbPG-"
      },
      "source": [
        "Однако пока мы не видели содержимого файла. Давайте это исправим."
      ]
    },
    {
      "cell_type": "code",
      "execution_count": null,
      "metadata": {
        "id": "6YEIQO_nbPG-",
        "outputId": "05fa7769-940f-49fe-f5b6-0df54d364ce5"
      },
      "outputs": [
        {
          "name": "stdout",
          "output_type": "stream",
          "text": [
            "Привет! Это первая строка в файле.\n",
            "А это вторая строка.\n",
            "\n",
            "Третья строка была пустой, а это уже четвертая строка.\n",
            "\n"
          ]
        }
      ],
      "source": [
        "text = ''                # Создаем пустую строку, в которой будем хранить текст из файла\n",
        "with open('text.txt', encoding='UTF-8') as infile:\n",
        "    for line in infile:  # Сохраняем поочередно каждую строку файла infile в переменную line,\n",
        "        text += line     # Добавляем новую строку к переменной text\n",
        "print(text)              # Смотрим, как выглядит считанный текст"
      ]
    },
    {
      "cell_type": "markdown",
      "metadata": {
        "id": "Ax4sarbeR0Bi"
      },
      "source": [
        "Чтобы понять, как Python видит переносы строк, мы можем сделать не стандартный вывод через `print()`, а просто написать название переменной и запустить код. Это позволит посмотреть, что находится \"внутри\" переменной, и увидеть все специальные символы."
      ]
    },
    {
      "cell_type": "code",
      "execution_count": null,
      "metadata": {
        "colab": {
          "base_uri": "https://localhost:8080/",
          "height": 35
        },
        "id": "BVCdsDLxSN1X",
        "outputId": "4a86fe69-2a0b-41e0-bee3-7d5271e9b027"
      },
      "outputs": [
        {
          "data": {
            "application/vnd.google.colaboratory.intrinsic+json": {
              "type": "string"
            },
            "text/plain": [
              "'Привет! Это первая строка в файле.\\nА это вторая строка.\\n\\nТретья строка была пустой, а это уже четвертая строка.'"
            ]
          },
          "execution_count": 4,
          "metadata": {
            "tags": []
          },
          "output_type": "execute_result"
        }
      ],
      "source": [
        "text"
      ]
    },
    {
      "cell_type": "markdown",
      "metadata": {
        "id": "SMPXV7GcbPHC"
      },
      "source": [
        "При необходимости мы могли бы с помощью `strip()` удалить переносы строк и записать всё без `\\n` в одну строку:"
      ]
    },
    {
      "cell_type": "code",
      "execution_count": null,
      "metadata": {
        "id": "TuUSleU2bPHD",
        "outputId": "f92c4c95-0b6a-4daa-fcdb-640eef6c56e7"
      },
      "outputs": [
        {
          "name": "stdout",
          "output_type": "stream",
          "text": [
            "Привет! Это первая строка в файле. А это вторая строка.  Третья строка была пустой, а это уже четвертая строка. \n"
          ]
        }
      ],
      "source": [
        "text = ''\n",
        "with open('text.txt', encoding='UTF-8') as infile:\n",
        "    for line in infile:\n",
        "        text += line.strip() + ' ' # Удаляем пробельные символы по краям строки\n",
        "                                   # Добавляем новую строку и пробел к переменной text\n",
        "print(text)"
      ]
    },
    {
      "cell_type": "markdown",
      "metadata": {
        "id": "eu-vjscKbPHQ"
      },
      "source": [
        "## считать .csv\n",
        "Точно так же можно открыть .csv файл и считать его в строку:"
      ]
    },
    {
      "cell_type": "code",
      "execution_count": null,
      "metadata": {
        "id": "CmBxuzunbPHR",
        "outputId": "d534583f-be40-4931-f48b-8a891b264079"
      },
      "outputs": [
        {
          "name": "stdout",
          "output_type": "stream",
          "text": [
            "Фамилия, Имя, Отчество, год рождения\n",
            "Иванов, Иван, Иванович, 1980\n",
            "Петрова, Ирина, Михайловна, 2000\n",
            "\n"
          ]
        }
      ],
      "source": [
        "csv_data = ''            # Создаем пустую строку, в которой будем хранить информацию\n",
        "with open('text.csv', encoding='UTF-8') as infile: # открываем файл под псевдонимом\n",
        "    for line in infile:  # Сохраняем поочередно каждую строку файла infile в переменную line,\n",
        "        csv_data += line # Добавляем новую строку к переменной csv_data,\n",
        "print(csv_data)          # Смотрим, как выглядит считанный файл"
      ]
    },
    {
      "cell_type": "markdown",
      "metadata": {
        "id": "1aC5dt_vbPHV"
      },
      "source": [
        "При этом csv_data — это просто строка."
      ]
    },
    {
      "cell_type": "code",
      "execution_count": null,
      "metadata": {
        "id": "jJwcom0bbPHW",
        "outputId": "a0123cfb-49aa-4bed-94d0-06b4ccf53f0a"
      },
      "outputs": [
        {
          "data": {
            "text/plain": [
              "'Фамилия, Имя, Отчество, год рождения\\nИванов, Иван, Иванович, 1980\\nПетрова, Ирина, Михайловна, 2000\\n'"
            ]
          },
          "execution_count": 13,
          "metadata": {
            "tags": []
          },
          "output_type": "execute_result"
        }
      ],
      "source": [
        "csv_data"
      ]
    },
    {
      "cell_type": "markdown",
      "metadata": {
        "id": "uSMCdhoRbPHa"
      },
      "source": [
        "Чтобы работать с ней как с таблицей, потребуются дополнительные действия, о которых пойдет речь позже. А пока давайте научимся не только читать из файла, но и записывать в файл."
      ]
    },
    {
      "cell_type": "markdown",
      "metadata": {
        "id": "giiy8bNubPHb"
      },
      "source": [
        "# 3. Запись в файл"
      ]
    },
    {
      "cell_type": "code",
      "execution_count": null,
      "metadata": {
        "id": "8ECRjAHcbPHd"
      },
      "outputs": [],
      "source": [
        "important_text = 'Это очень важный текст. В нем даже несколько строк. \\nОни отделены переносом строки.'\n",
        "with open('info.txt', 'w') as outfile:    # Открываем файл, указываем, что это файл для записи:                                        # 'w', можем явно указать кодировку\n",
        "    print(important_text, file=outfile)   # Печатаем в файл, передавая его псевдоним в качестве аргумента функции print()"
      ]
    },
    {
      "cell_type": "code",
      "execution_count": null,
      "metadata": {
        "id": "p6ka9P9nbPHg"
      },
      "outputs": [],
      "source": [
        "important_text_2 = 'Это другой важный текст.'\n",
        "with open('info.txt', 'w') as outfile:        # Открываем тот же файл, можем явно указать кодировку\n",
        "    print(important_text_2, file=outfile)"
      ]
    },
    {
      "cell_type": "code",
      "execution_count": null,
      "metadata": {
        "id": "L09okJE9bPHk"
      },
      "outputs": [],
      "source": [
        "important_text_3 = 'Это третий важный текст. Надеемся, что он запишется после второго'\n",
        "with open('info.txt', 'a') as outfile:    # Открываем тот же файл, указываем, что это файл для ДОзаписи: 'a' (append)\n",
        "    print(important_text_3, file=outfile)"
      ]
    },
    {
      "cell_type": "markdown",
      "metadata": {
        "id": "-bar2HwfYp41"
      },
      "source": [
        "\n",
        "\n",
        "Мы открываем файл с помощью конструкции `with open() as`, которая потом и закрывает файл.\n",
        "\n",
        "Мы использовали три режима открытия файлов:\n",
        "1. `mode='r'` — _read,  **чтение**_. При отсутствии указанного файла выдается ошибка. Это режим по умолчанию.\n",
        "1. `mode='w'` — _write, **запись**_. При отсутствии указанного файла создается новый. При наличии файла содержимое перезаписывается.\n",
        "1. `mode='a'` — _append, **дозапись**_. При отсутствии указанного файла создается новый. При наличии файла новое содержимое дозаписывается после имеющегося."
      ]
    },
    {
      "cell_type": "markdown",
      "source": [
        "# Практика"
      ],
      "metadata": {
        "collapsed": false,
        "id": "Bq3SILqTyNZC"
      }
    },
    {
      "cell_type": "markdown",
      "source": [
        "### №1\n",
        "Напишите функцию read_df(lines, file), которая будет открывать определенный файл и выводить на печать построчно последние строки в количестве lines (на всякий случай проверим, что задано положительное целое число). Протестируем функцию на файле data_1.txt со следующим содержимым:\n",
        "\n",
        "Вечерело\n",
        "Жужжали мухи\n",
        "Светил фонарик\n",
        "Кипела вода в чайнике\n",
        "Венера зажглась на небе\n",
        "Деревья шумели\n",
        "Тучи разошлись\n",
        "Листва зеленела"
      ],
      "metadata": {
        "collapsed": false,
        "id": "XbxbeAxXyNZD"
      }
    },
    {
      "cell_type": "code",
      "execution_count": null,
      "outputs": [],
      "source": [],
      "metadata": {
        "id": "N-4tiYYNyNZD"
      }
    },
    {
      "cell_type": "markdown",
      "source": [
        "### №2\n",
        "Требуется создать csv-файл data.csv со следующими столбцами:\n",
        "– № - номер по порядку (от 1 до 300);\n",
        "– Секунда – текущая секунда на вашем компьютере;\n",
        "– Микросекунда – текущая миллисекунда на часах.\n",
        "На каждой итерации цикла искусственно приостанавливайте скрипт на 0,01 секунды."
      ],
      "metadata": {
        "collapsed": false,
        "id": "McVDkAX0yNZD"
      }
    },
    {
      "cell_type": "code",
      "execution_count": null,
      "outputs": [],
      "source": [],
      "metadata": {
        "id": "bPjvgOi4yNZD"
      }
    },
    {
      "cell_type": "markdown",
      "source": [
        "### №3\n",
        " Напишите программу на Python для чтения всего текстового файла."
      ],
      "metadata": {
        "collapsed": false,
        "id": "vaoxV9IiyNZD"
      }
    },
    {
      "cell_type": "code",
      "execution_count": null,
      "outputs": [],
      "source": [],
      "metadata": {
        "id": "Bu0O5laayNZE"
      }
    },
    {
      "cell_type": "markdown",
      "source": [
        "### №4 Напишите программу на Python для чтения первых n строк файла."
      ],
      "metadata": {
        "collapsed": false,
        "id": "nwTvkzf9yNZE"
      }
    },
    {
      "cell_type": "code",
      "execution_count": null,
      "outputs": [],
      "source": [],
      "metadata": {
        "id": "1K_uePcmyNZE"
      }
    },
    {
      "cell_type": "markdown",
      "source": [
        "### №5\n",
        "Напишите программу на Python для добавления текста в файл и отображения текста."
      ],
      "metadata": {
        "collapsed": false,
        "id": "JE2c7ccmyNZE"
      }
    },
    {
      "cell_type": "code",
      "execution_count": null,
      "outputs": [],
      "source": [],
      "metadata": {
        "id": "7I7efn87yNZE"
      }
    },
    {
      "cell_type": "markdown",
      "source": [
        "### №6\n",
        "Напишите программу на Python для чтения последних n строк файла."
      ],
      "metadata": {
        "collapsed": false,
        "id": "S5W6_BCcyNZE"
      }
    },
    {
      "cell_type": "code",
      "execution_count": null,
      "outputs": [],
      "source": [],
      "metadata": {
        "id": "-hw2vobdyNZE"
      }
    },
    {
      "cell_type": "markdown",
      "source": [
        "### №7 Напишите программу на Python для построчного чтения файла и сохранения его в списке."
      ],
      "metadata": {
        "collapsed": false,
        "id": "NQNHci-ByNZE"
      }
    },
    {
      "cell_type": "code",
      "execution_count": null,
      "outputs": [],
      "source": [],
      "metadata": {
        "id": "6hNehlYnyNZE"
      }
    },
    {
      "cell_type": "markdown",
      "source": [
        "### №8\n",
        "Напишите программу на Python для построчного чтения файла и сохраните его в переменной."
      ],
      "metadata": {
        "collapsed": false,
        "id": "JYmLcYhJyNZF"
      }
    },
    {
      "cell_type": "code",
      "execution_count": null,
      "outputs": [],
      "source": [],
      "metadata": {
        "id": "vq0T3RbCyNZF"
      }
    },
    {
      "cell_type": "markdown",
      "source": [
        "### №9\n",
        "Напишите программу на Python для подсчета количества строк в текстовом файле."
      ],
      "metadata": {
        "collapsed": false,
        "id": "NqK2brdkyNZF"
      }
    },
    {
      "cell_type": "code",
      "execution_count": null,
      "outputs": [],
      "source": [],
      "metadata": {
        "id": "bDIU_z-_yNZF"
      }
    },
    {
      "cell_type": "markdown",
      "source": [
        "### №10\n",
        "Напишите программу на Python для записи списка в файл."
      ],
      "metadata": {
        "collapsed": false,
        "id": "npi1llcMyNZG"
      }
    },
    {
      "cell_type": "code",
      "execution_count": null,
      "outputs": [],
      "source": [],
      "metadata": {
        "id": "dT6yTIDNyNZG"
      }
    }
  ],
  "metadata": {
    "colab": {
      "provenance": []
    },
    "kernelspec": {
      "display_name": "Python 3",
      "language": "python",
      "name": "python3"
    },
    "language_info": {
      "codemirror_mode": {
        "name": "ipython",
        "version": 3
      },
      "file_extension": ".py",
      "mimetype": "text/x-python",
      "name": "python",
      "nbconvert_exporter": "python",
      "pygments_lexer": "ipython3",
      "version": "3.6.5"
    }
  },
  "nbformat": 4,
  "nbformat_minor": 0
}