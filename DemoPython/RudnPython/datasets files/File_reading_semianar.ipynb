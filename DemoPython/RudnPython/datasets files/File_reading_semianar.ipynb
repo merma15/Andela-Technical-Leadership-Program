{
  "cells": [
    {
      "cell_type": "markdown",
      "metadata": {
        "collapsed": false,
        "id": "Bq3SILqTyNZC"
      },
      "source": [
        "# Практика"
      ]
    },
    {
      "cell_type": "markdown",
      "metadata": {
        "collapsed": false,
        "id": "XbxbeAxXyNZD"
      },
      "source": [
        "### №1\n",
        "Напишите функцию read_df(lines, file), которая будет открывать определенный файл и выводить на печать построчно последние строки в количестве lines (на всякий случай проверим, что задано положительное целое число). Протестируем функцию на файле data_1.txt со следующим содержимым:\n",
        "\n",
        "Вечерело\n",
        "Жужжали мухи\n",
        "Светил фонарик\n",
        "Кипела вода в чайнике\n",
        "Венера зажглась на небе\n",
        "Деревья шумели\n",
        "Тучи разошлись\n",
        "Листва зеленела"
      ]
    },
    {
      "cell_type": "code",
      "execution_count": null,
      "metadata": {
        "id": "N-4tiYYNyNZD"
      },
      "outputs": [],
      "source": [
        "#inputing and file reading\n",
        "with open(\"/content/data_1x.txt\", mode=\"r\", encoding=\"utf-8\") as f:\n",
        "  file = f.read().split(\" \")\n",
        "\n",
        "# file creating\n",
        "def read_df(lines, file):\n",
        "  result = []\n",
        "  for line in file:\n",
        "    result.append(line)\n",
        "  return result[-lines:]\n",
        "\n",
        "n_lines = int(input('Please enter the number of lines you want to read: '))\n",
        "print(read_df(n_lines, file))"
      ]
    },
    {
      "cell_type": "code",
      "execution_count": null,
      "metadata": {},
      "outputs": [],
      "source": []
    },
    {
      "cell_type": "markdown",
      "metadata": {
        "collapsed": false,
        "id": "McVDkAX0yNZD"
      },
      "source": [
        "### №2\n",
        "Требуется создать csv-файл data.csv со следующими столбцами:\n",
        "– № - номер по порядку (от 1 до 300);\n",
        "– Секунда – текущая секунда на вашем компьютере;\n",
        "– Микросекунда – текущая миллисекунда на часах.\n",
        "На каждой итерации цикла искусственно приостанавливайте скрипт на 0,01 секунды."
      ]
    },
    {
      "cell_type": "code",
      "execution_count": null,
      "metadata": {
        "id": "bPjvgOi4yNZD"
      },
      "outputs": [],
      "source": [
        "import csv\n",
        "import time\n",
        "\n",
        "data = []\n",
        "\n",
        "headers = ['Number', 'Second', 'Millisecond', 'Microsecond']\n",
        "data.append(headers)\n",
        "for j in range(1, 301):\n",
        "  current_second = int(time.time())\n",
        "  current_millisecond = int(time.time() * 1000) % 1000\n",
        "  current_microsecond = int(time.time() * 1000000) % 1000\n",
        "\n",
        "  row_data = [j, current_second, current_millisecond, current_microsecond]\n",
        "  data.append(row_data)\n",
        "\n",
        "  time.sleep(0.01)\n",
        "\n",
        "# Saving and Writing the data to the file\n",
        "with open('data.csv', mode=\"w\", encoding=\"utf-8\", newline='') as file:\n",
        "  writer = csv.writer(file)\n",
        "  writer.writerows(data)\n",
        "\n"
      ]
    },
    {
      "cell_type": "markdown",
      "metadata": {
        "collapsed": false,
        "id": "vaoxV9IiyNZD"
      },
      "source": [
        "### №3\n",
        " Напишите программу на Python для чтения всего текстового файла."
      ]
    },
    {
      "cell_type": "code",
      "execution_count": null,
      "metadata": {
        "id": "Bu0O5laayNZE"
      },
      "outputs": [],
      "source": [
        "import os\n",
        "work_directory = os.getcwd()\n",
        "filename = 'reply_209770_6.txt'\n",
        "filepath = os.path.join(work_directory, filename)\n",
        "\n",
        "with open(filepath, mode='r', encoding='utf-8') as file:\n",
        "  given_file = file.read()\n",
        "  for line in given_file.split(\"\\n\"):\n",
        "    print(line.strip())\n"
      ]
    },
    {
      "cell_type": "markdown",
      "metadata": {
        "collapsed": false,
        "id": "nwTvkzf9yNZE"
      },
      "source": [
        "### №4 Напишите программу на Python для чтения первых n строк файла."
      ]
    },
    {
      "cell_type": "code",
      "execution_count": null,
      "metadata": {
        "id": "1K_uePcmyNZE"
      },
      "outputs": [],
      "source": [
        "import os\n",
        "\n",
        "work_dir = os.getcwd()\n",
        "filename = \"reply_209770_6.txt\"\n",
        "filepath = os.path.join(work_dir, filename)\n",
        "\n",
        "def file_reading_n_rows(n_rows, file_given):\n",
        "  for f_given in file_given:\n",
        "    print(f_given)\n",
        "\n",
        "\n",
        "number_rows = int(input(\"Please Enter the Number of rows you want to read: \"))\n",
        "with open(filepath, mode='r', encoding=\"utf-8\") as outfile:\n",
        "  file_data = outfile.readlines()\n",
        "\n",
        "f_given = file_data\n",
        "\n",
        "file_reading_n_rows(number_rows, f_given)"
      ]
    },
    {
      "cell_type": "markdown",
      "metadata": {
        "collapsed": false,
        "id": "JE2c7ccmyNZE"
      },
      "source": [
        "### №5\n",
        "Напишите программу на Python для добавления текста в файл и отображения текста."
      ]
    },
    {
      "cell_type": "code",
      "execution_count": null,
      "metadata": {
        "id": "7I7efn87yNZE"
      },
      "outputs": [],
      "source": [
        "with open('/content/data_1.txt', mode=\"w\", encoding=\"utf-8\") as outfile:\n",
        "  outfile.write(\"Those Words are so coooool!\\n\")\n",
        "  outfile.write(\"I like to introduce you. To this opportunities\\n\")\n",
        "  while True:\n",
        "    user_input = input(\"Please Enter 'q' to quit: \")\n",
        "    if user_input == 'q'.lower() or user_input == 'exit':\n",
        "      break\n",
        "    else:\n",
        "      outfile.write(f\"{user_input}\\n\")\n",
        "  txt = open('/content/data_1.txt')\n",
        "print(txt.read())"
      ]
    },
    {
      "cell_type": "markdown",
      "metadata": {
        "collapsed": false,
        "id": "S5W6_BCcyNZE"
      },
      "source": [
        "### №6\n",
        "Напишите программу на Python для чтения последних n строк файла."
      ]
    },
    {
      "cell_type": "code",
      "execution_count": 1,
      "metadata": {
        "id": "-hw2vobdyNZE"
      },
      "outputs": [
        {
          "ename": "FileNotFoundError",
          "evalue": "[Errno 2] No such file or directory: '/content/data_1.txt'",
          "output_type": "error",
          "traceback": [
            "\u001b[1;31m---------------------------------------------------------------------------\u001b[0m",
            "\u001b[1;31mFileNotFoundError\u001b[0m                         Traceback (most recent call last)",
            "Cell \u001b[1;32mIn[1], line 1\u001b[0m\n\u001b[1;32m----> 1\u001b[0m \u001b[38;5;28;01mwith\u001b[39;00m \u001b[38;5;28;43mopen\u001b[39;49m\u001b[43m(\u001b[49m\u001b[38;5;124;43m'\u001b[39;49m\u001b[38;5;124;43m/content/data_1.txt\u001b[39;49m\u001b[38;5;124;43m'\u001b[39;49m\u001b[43m,\u001b[49m\u001b[43m \u001b[49m\u001b[43mmode\u001b[49m\u001b[38;5;241;43m=\u001b[39;49m\u001b[38;5;124;43m'\u001b[39;49m\u001b[38;5;124;43mr\u001b[39;49m\u001b[38;5;124;43m'\u001b[39;49m\u001b[43m,\u001b[49m\u001b[43m \u001b[49m\u001b[43mencoding\u001b[49m\u001b[38;5;241;43m=\u001b[39;49m\u001b[38;5;124;43m\"\u001b[39;49m\u001b[38;5;124;43mutf-8\u001b[39;49m\u001b[38;5;124;43m\"\u001b[39;49m\u001b[43m)\u001b[49m \u001b[38;5;28;01mas\u001b[39;00m f:\n\u001b[0;32m      2\u001b[0m   f_file \u001b[38;5;241m=\u001b[39m f\u001b[38;5;241m.\u001b[39mread()\u001b[38;5;241m.\u001b[39mstrip()\u001b[38;5;241m.\u001b[39msplit(\u001b[38;5;124m'\u001b[39m\u001b[38;5;130;01m\\n\u001b[39;00m\u001b[38;5;124m'\u001b[39m)\n",
            "File \u001b[1;32m~\\AppData\\Local\\Packages\\PythonSoftwareFoundation.Python.3.11_qbz5n2kfra8p0\\LocalCache\\local-packages\\Python311\\site-packages\\IPython\\core\\interactiveshell.py:286\u001b[0m, in \u001b[0;36m_modified_open\u001b[1;34m(file, *args, **kwargs)\u001b[0m\n\u001b[0;32m    279\u001b[0m \u001b[38;5;28;01mif\u001b[39;00m file \u001b[38;5;129;01min\u001b[39;00m {\u001b[38;5;241m0\u001b[39m, \u001b[38;5;241m1\u001b[39m, \u001b[38;5;241m2\u001b[39m}:\n\u001b[0;32m    280\u001b[0m     \u001b[38;5;28;01mraise\u001b[39;00m \u001b[38;5;167;01mValueError\u001b[39;00m(\n\u001b[0;32m    281\u001b[0m         \u001b[38;5;124mf\u001b[39m\u001b[38;5;124m\"\u001b[39m\u001b[38;5;124mIPython won\u001b[39m\u001b[38;5;124m'\u001b[39m\u001b[38;5;124mt let you open fd=\u001b[39m\u001b[38;5;132;01m{\u001b[39;00mfile\u001b[38;5;132;01m}\u001b[39;00m\u001b[38;5;124m by default \u001b[39m\u001b[38;5;124m\"\u001b[39m\n\u001b[0;32m    282\u001b[0m         \u001b[38;5;124m\"\u001b[39m\u001b[38;5;124mas it is likely to crash IPython. If you know what you are doing, \u001b[39m\u001b[38;5;124m\"\u001b[39m\n\u001b[0;32m    283\u001b[0m         \u001b[38;5;124m\"\u001b[39m\u001b[38;5;124myou can use builtins\u001b[39m\u001b[38;5;124m'\u001b[39m\u001b[38;5;124m open.\u001b[39m\u001b[38;5;124m\"\u001b[39m\n\u001b[0;32m    284\u001b[0m     )\n\u001b[1;32m--> 286\u001b[0m \u001b[38;5;28;01mreturn\u001b[39;00m \u001b[43mio_open\u001b[49m\u001b[43m(\u001b[49m\u001b[43mfile\u001b[49m\u001b[43m,\u001b[49m\u001b[43m \u001b[49m\u001b[38;5;241;43m*\u001b[39;49m\u001b[43margs\u001b[49m\u001b[43m,\u001b[49m\u001b[43m \u001b[49m\u001b[38;5;241;43m*\u001b[39;49m\u001b[38;5;241;43m*\u001b[39;49m\u001b[43mkwargs\u001b[49m\u001b[43m)\u001b[49m\n",
            "\u001b[1;31mFileNotFoundError\u001b[0m: [Errno 2] No such file or directory: '/content/data_1.txt'"
          ]
        }
      ],
      "source": [
        "with open('/content/data_1.txt', mode='r', encoding=\"utf-8\") as f:\n",
        "  f_file = f.read().strip().split('\\n')"
      ]
    },
    {
      "cell_type": "markdown",
      "metadata": {
        "collapsed": false,
        "id": "NQNHci-ByNZE"
      },
      "source": [
        "### №7 Напишите программу на Python для построчного чтения файла и сохранения его в списке."
      ]
    },
    {
      "cell_type": "code",
      "execution_count": null,
      "metadata": {
        "id": "6hNehlYnyNZE"
      },
      "outputs": [],
      "source": [
        "def file_reading():\n",
        "     result = []\n",
        "  with open('/content/data_1.txt', mode=\"r\", encoding=\"utf-8\") as read_f:\n",
        "    for line in read_f:\n",
        "      result.append(line.strip())\n",
        "  return result\n",
        "\n",
        "print(file_reading())"
      ]
    },
    {
      "cell_type": "markdown",
      "metadata": {
        "collapsed": false,
        "id": "JYmLcYhJyNZF"
      },
      "source": [
        "### №8\n",
        "Напишите программу на Python для построчного чтения файла и сохраните его в переменной."
      ]
    },
    {
      "cell_type": "code",
      "execution_count": null,
      "metadata": {
        "id": "vq0T3RbCyNZF"
      },
      "outputs": [],
      "source": [
        "def read_file():\n",
        "     lines = ''\n",
        "  with open(\"/content/dataset_3363_3.txt\", mode='r', encoding=\"utf-8\") as out_file:\n",
        "    for line in out_file:\n",
        "      lines += line\n",
        "    return lines\n",
        "\n",
        "our_file = read_file()"
      ]
    },
    {
      "cell_type": "markdown",
      "metadata": {
        "collapsed": false,
        "id": "NqK2brdkyNZF"
      },
      "source": [
        "### №9\n",
        "Напишите программу на Python для подсчета количества строк в текстовом файле."
      ]
    },
    {
      "cell_type": "code",
      "execution_count": null,
      "metadata": {
        "id": "bDIU_z-_yNZF"
      },
      "outputs": [],
      "source": [
        "def reads_file():\n",
        "     count_line = 0\n",
        "    with open(\"/content/dataset_3363_3.txt\", mode=\"r\", encoding=\"utf-8\") as file_r:\n",
        "      for line in file_r:\n",
        "      if line:\n",
        "        count_line += 1\n",
        "    return count_line\n",
        "\n",
        "print(reads_file())"
      ]
    },
    {
      "cell_type": "markdown",
      "metadata": {
        "collapsed": false,
        "id": "npi1llcMyNZG"
      },
      "source": [
        "### №10\n",
        "Напишите программу на Python для записи списка в файл."
      ]
    },
    {
      "cell_type": "code",
      "execution_count": null,
      "metadata": {
        "id": "dT6yTIDNyNZG"
      },
      "outputs": [],
      "source": [
        "our_lst = ['rudn ', 'moscow ', 'msu '] #here is the list to be added or reacordning tn the file\n",
        "with open(\"/content/data_1.txt\", mode=\"w\", encoding=\"utf-8\") as file_write:\n",
        "  file_write.writelines(our_lst)\n",
        "\n",
        "with open('/content/data_1.txt', mode=\"r\", encoding='utf-8') as file_read:\n",
        "  print(file_read.read())"
      ]
    }
  ],
  "metadata": {
    "colab": {
      "provenance": []
    },
    "kernelspec": {
      "display_name": "Python 3",
      "language": "python",
      "name": "python3"
    },
    "language_info": {
      "codemirror_mode": {
        "name": "ipython",
        "version": 3
      },
      "file_extension": ".py",
      "mimetype": "text/x-python",
      "name": "python",
      "nbconvert_exporter": "python",
      "pygments_lexer": "ipython3",
      "version": "3.11.7"
    }
  },
  "nbformat": 4,
  "nbformat_minor": 0
}
