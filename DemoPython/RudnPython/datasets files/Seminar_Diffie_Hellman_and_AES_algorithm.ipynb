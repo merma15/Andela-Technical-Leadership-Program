{
  "nbformat": 4,
  "nbformat_minor": 0,
  "metadata": {
    "colab": {
      "provenance": [],
      "toc_visible": true
    },
    "kernelspec": {
      "name": "python3",
      "display_name": "Python 3"
    },
    "language_info": {
      "name": "python"
    }
  },
  "cells": [
    {
      "cell_type": "markdown",
      "source": [
        "#***1***. Реализация протокола Диффи-Хеллмана"
      ],
      "metadata": {
        "id": "y30l26hwtxqJ"
      }
    },
    {
      "cell_type": "markdown",
      "source": [
        "Протокол обмена ключами Диффи-Хеллмана позволяет двум сторонам безопасно создать общий секретный ключ через небезопасный канал связи. Каждая сторона выбирает собственный закрытый ключ a and b и генерирует открытый ключ Ka and Kb с использованием общего простого числа p и первообразного корня g. После обмена этими открытыми ключами стороны независимо вычисляют общий секрет, что позволяет им общаться безопасно, используя этот общий секрет в качестве ключа шифрования. Этот процесс предотвращает перехват общего секрета со стороны подслушивающих и обеспечивает безопасную связь между сторонами.\n"
      ],
      "metadata": {
        "id": "q-c9DD4Wvfm4"
      }
    },
    {
      "cell_type": "markdown",
      "source": [
        "шаг 1. Подключим библиотеки"
      ],
      "metadata": {
        "id": "Ty_mF8lPxCO1"
      }
    },
    {
      "cell_type": "code",
      "source": [
        "from cryptography.hazmat.primitives import hashes\n",
        "from cryptography.hazmat.primitives.asymmetric import dh\n",
        "from cryptography.hazmat.primitives.kdf.hkdf import HKDF"
      ],
      "metadata": {
        "id": "MxhrTbGCuCTw"
      },
      "execution_count": null,
      "outputs": []
    },
    {
      "cell_type": "markdown",
      "source": [
        "### Пояснение:\n",
        "\n",
        "Импорт данного кода на Python использует библиотеку `cryptography`для выполнения криптографических операций.\n",
        "\n",
        "1. `from cryptography.hazmat.primitives import hashes`: Этот код импортирует криптографические хеш-функции из библиотеки `cryptography`. Хеш-функции используются для создания фиксированного по размеру вывода (хеша) из входных данных.\n",
        "\n",
        "2. `from cryptography.hazmat.primitives.asymmetric import dh`: Этот импорт относится к функционалу протокола обмена ключами Диффи-Хеллмана из библиотеки `cryptography`. Он позволяет использовать Диффи-Хеллмана для согласования ключей.\n",
        "\n",
        "3. `from cryptography.hazmat.primitives.kdf.hkdf import HKDF`: Здесь импортируется HMAC-ориентированная функция производства ключей (HKDF) из библиотеки `cryptography`. HKDF используется для получения ключей из начального материала.\n",
        "\n",
        "В целом, этот фрагмент кода импортирует необходимые модули из библиотеки `cryptography` для работы с криптографическими хеш-функциями (hash functions), протоколом обмена ключами Диффи-Хеллмана (Diffie-Hellman key exchange protocal) и производства ключей с помощью HKDF на языке программирования Python."
      ],
      "metadata": {
        "id": "TKCtHNQOxOWt"
      }
    },
    {
      "cell_type": "markdown",
      "source": [
        "шаг 2. Создадим объект для генерации ключей"
      ],
      "metadata": {
        "id": "YUqmaEOQ0Gnw"
      }
    },
    {
      "cell_type": "code",
      "source": [
        "parameters = dh.generate_parameters(generator=2, key_size=2048)"
      ],
      "metadata": {
        "id": "wpsd18ZW0iSX"
      },
      "execution_count": null,
      "outputs": []
    },
    {
      "cell_type": "markdown",
      "source": [
        "###Пояснение:\n",
        "Эта строка создает параметры Диффи-Хеллмана с определенным генератором и размером ключа.\n",
        "\n",
        "- `generator=2`: Указывает генератор для параметров Диффи-Хеллмана.\n",
        "- `key_size=2048`: Определяет размер генерируемого ключа.\n",
        "\n",
        "Эти параметры критически важны для безопасности и эффективности обмена ключами по протоколу Диффи-Хеллмана. Генератор - это число, которое помогает создавать открытые и закрытые ключи, а размер ключа определяет длину ключей, используемых в процессе обмена ключами, влияя на уровень безопасности обмениваемых ключей."
      ],
      "metadata": {
        "id": "Lh8KU8gs0GaF"
      }
    },
    {
      "cell_type": "markdown",
      "source": [
        "шаг 3. Получим закрытый ключ"
      ],
      "metadata": {
        "id": "yD3y6j130GMn"
      }
    },
    {
      "cell_type": "code",
      "source": [
        "private_key = parameters.generate_private_key()\n",
        "public_key = private_key.public_key()"
      ],
      "metadata": {
        "id": "efiLDXL72ORO"
      },
      "execution_count": null,
      "outputs": []
    },
    {
      "cell_type": "markdown",
      "source": [
        "###Пояснение:\n",
        "Этот код генерирует закрытый ключ и соответствующий ему открытый ключ с использованием ранее определенных параметров Диффи-Хеллмана.\n",
        "\n",
        "- `parameters.generate_private_key()`: Этот метод создает закрытый ключ на основе заданных параметров Диффи-Хеллмана. Этот закрытый ключ будет использоваться для дальнейших вычислений в процессе обмена ключами.\n",
        "\n",
        "- `private_key.public_key()`: Из сгенерированного закрытого ключа этот код генерирует соответствующий открытый ключ. В протоколе обмена ключами Диффи-Хеллмана закрытый ключ должен оставаться секретным, в то время как открытый ключ может быть передан другим сторонам.\n"
      ],
      "metadata": {
        "id": "7zYT6atk0Fgd"
      }
    },
    {
      "cell_type": "markdown",
      "source": [
        "шаг 4. Получим параметры, которые были сгенерированы"
      ],
      "metadata": {
        "id": "B_wDO2Jw2V-V"
      }
    },
    {
      "cell_type": "code",
      "source": [
        "dh_numbers = parameters.parameter_numbers()"
      ],
      "metadata": {
        "id": "DYt1LQtV3J0v"
      },
      "execution_count": null,
      "outputs": []
    },
    {
      "cell_type": "markdown",
      "source": [
        "###Пояснение:\n",
        "Этот код возвращает параметры чисел Диффи-Хеллмана (`dh_numbers`) на основе ранее созданных параметров. Эти числа включают в себя информацию, необходимую для проведения операций Диффи-Хеллмана, таких как основной модуль и генератор. `parameter_numbers()` предоставляет доступ к этим значениям для использования в дальнейших вычислениях или для отображения."
      ],
      "metadata": {
        "id": "IwQAyFK42V2-"
      }
    },
    {
      "cell_type": "markdown",
      "source": [
        "шаг 5. Передадим параметры другой стороне и сгенерируем объект для генерации ключей"
      ],
      "metadata": {
        "id": "GganwK0j2V0a"
      }
    },
    {
      "cell_type": "code",
      "source": [
        "peer_parameters = dh.DHParameterNumbers(dh_numbers.p, dh_numbers.g).parameters()"
      ],
      "metadata": {
        "id": "LtJx40ze33lX"
      },
      "execution_count": null,
      "outputs": []
    },
    {
      "cell_type": "markdown",
      "source": [
        "###Пояснение:\n",
        "Этот код создает числа параметров Диффи-Хеллмана (`peer_parameters`) на основе значений, полученных из `dh_numbers`, которые обычно включают в себя простое основание (`p`) и генератор (`g`). Он использует эти значения для генерации параметров, необходимых для установления протокола обмена ключами Диффи-Хеллмана с другой стороной или участником коммуникации. Эти параметры позволяют обеим сторонам договориться о том же наборе значений, необходимых для процесса обмена ключами."
      ],
      "metadata": {
        "id": "jrKfgSBT2VxV"
      }
    },
    {
      "cell_type": "markdown",
      "source": [
        "шаг 6. Сгенерируем закрытый ключ на другой стороне"
      ],
      "metadata": {
        "id": "eD1b8ZnX2Vui"
      }
    },
    {
      "cell_type": "code",
      "source": [
        "peer_private_key = peer_parameters.generate_private_key()"
      ],
      "metadata": {
        "id": "f4fV8Q9s4qrb"
      },
      "execution_count": null,
      "outputs": []
    },
    {
      "cell_type": "markdown",
      "source": [
        "###Пояснение:\n",
        "Этот код создает закрытый ключ (`peer_private_key`) с использованием параметров (`peer_parameters`) в рамках протокола Диффи-Хеллмана. Этот закрытый ключ важен для генерации общего секретного ключа в процессе обмена ключами."
      ],
      "metadata": {
        "id": "o_x0t8td4rGO"
      }
    },
    {
      "cell_type": "markdown",
      "source": [
        "шаг 7. Получим публичный ключ другой стороны\n"
      ],
      "metadata": {
        "id": "QjXeRlpb4rDl"
      }
    },
    {
      "cell_type": "code",
      "source": [
        "peer_public_key = peer_private_key.public_key()"
      ],
      "metadata": {
        "id": "G9AZE-_06a_8"
      },
      "execution_count": null,
      "outputs": []
    },
    {
      "cell_type": "markdown",
      "source": [
        "###Пояснение:\n",
        "Этот фрагмент кода создает открытый ключ (`peer_public_key`) на основе закрытого ключа (`peer_private_key`) в протоколе Диффи-Хеллмана. Открытый ключ будет использован для обмена данными с другой стороной и вычисления общего секретного ключа."
      ],
      "metadata": {
        "id": "EZxeb2kJ6cfx"
      }
    },
    {
      "cell_type": "markdown",
      "source": [
        "шаг 8. На основе публичного ключа другой стороны создаем общий ключ"
      ],
      "metadata": {
        "id": "yR_pagQe6b_e"
      }
    },
    {
      "cell_type": "code",
      "source": [
        "shared_key = private_key.exchange(peer_public_key)"
      ],
      "metadata": {
        "id": "I_yRXXj28B8T"
      },
      "execution_count": null,
      "outputs": []
    },
    {
      "cell_type": "markdown",
      "source": [
        "###Пояснение:\n",
        " Эта строка кода выполняет операцию обмена открытыми ключами между вашим закрытым ключом (`private_key`) и открытым ключом другой стороны (`peer_public_key`) в протоколе Диффи-Хеллмана. Операция обмена ключами используется для создания общего секретного ключа, который может быть использован для шифрования данных, обеспечивая безопасную коммуникацию между двумя сторонами."
      ],
      "metadata": {
        "id": "OqOKTYTv6btQ"
      }
    },
    {
      "cell_type": "markdown",
      "source": [
        "шаг 9. Аналогично получаем публичный ключ на другой стороне"
      ],
      "metadata": {
        "id": "LIq7Ggmc8e7Q"
      }
    },
    {
      "cell_type": "code",
      "source": [
        "peer_shared_key = peer_private_key.exchange(public_key)"
      ],
      "metadata": {
        "id": "1troRaRC8lQr"
      },
      "execution_count": null,
      "outputs": []
    },
    {
      "cell_type": "markdown",
      "source": [
        "###Пояснение:\n",
        "Эта строка кода выполняет операцию обмена открытыми ключами между закрытым ключом другой стороны (`peer_private_key`) и вашим открытым ключом (`public_key`) в протоколе Диффи-Хеллмана. Этот обмен ключами используется для создания общего секретного ключа между вами и другой стороной для безопасной передачи данных."
      ],
      "metadata": {
        "id": "DfKghh848e0-"
      }
    },
    {
      "cell_type": "markdown",
      "source": [
        "шаг 10. Преобразуем полученный общий ключ в ключ длиной 256-бит с помощью KDF KDF - функция, формирующая один или несколько секретных ключей на основе секретного значения (главный ключ, пароль или парольная фраза) с помощью псевдослучайной функции. Создаем объект HKDF, с помощью которого создадим ключ для симметричного шифрования."
      ],
      "metadata": {
        "id": "eIVXoKwR88YR"
      }
    },
    {
      "cell_type": "code",
      "source": [
        "hkdf_obj = HKDF(\n",
        "  algorithm=hashes.SHA256(),\n",
        "  length=32,\n",
        "  salt=None,\n",
        "  info=b\"\",\n",
        ")\n",
        "peer_hkdf_obj = HKDF(\n",
        "  algorithm=hashes.SHA256(),\n",
        "  length=32,\n",
        "  salt=None,\n",
        "  info=b\"\",\n",
        ")"
      ],
      "metadata": {
        "id": "L6P9D85o9Qu_"
      },
      "execution_count": null,
      "outputs": []
    },
    {
      "cell_type": "markdown",
      "source": [
        "###Пояснение:\n",
        "Этот фрагмент кода создает объекты HKDF (HMAC-based Key Derivation Function) с использованием алгоритма хеширования SHA256 для обеих сторон.\n",
        "\n",
        "Функция HKDF предназначена для получения дополнительных ключей или подключей на основе существующих ключей или другой информации. В данном случае, возможно, эти ключи будут выведены из общего секретного ключа, полученного в результате протокола Диффи-Хеллмана.\n",
        "\n",
        "- `hkdf_obj`: Эта переменная представляет экземпляр объекта HKDF (HMAC-based Key Derivation Function). Он настроен на использование алгоритма хеширования SHA256 (`algorithm=hashes.SHA256()`). Предполагается, что он будет создавать ключи длиной 32 байта (`length=32`). Параметр `salt` установлен в `None`, что означает отсутствие дополнительной соли при процессе выработки ключей. Параметр `info` представляет собой пустую байтовую строку `b\"\"`, указывающую отсутствие дополнительной информации для выработки ключей.\n",
        "\n",
        "- `peer_hkdf_obj`: Подобно `hkdf_obj`, эта переменная представляет другой экземпляр объекта HKDF, настроенный аналогичным образом. Он также предназначен для выработки ключей длиной 32 байта с использованием алгоритма хеширования SHA256, без соли и дополнительной информации для выработки ключей."
      ],
      "metadata": {
        "id": "90YKyBHI88I3"
      }
    },
    {
      "cell_type": "markdown",
      "source": [
        "шаг 11. Получим ключ длиной 256-бит"
      ],
      "metadata": {
        "id": "iX6Yp5D6_Zp3"
      }
    },
    {
      "cell_type": "code",
      "source": [
        "derived_key = hkdf_obj.derive(shared_key)"
      ],
      "metadata": {
        "id": "GhFWyyTa8_xB"
      },
      "execution_count": null,
      "outputs": []
    },
    {
      "cell_type": "markdown",
      "source": [
        "### Пояснение:\n",
        "Этот фрагмент кода вырабатывает ключ (`derived_key`) с использованием объекта HKDF (`hkdf_obj`) из общего ключа (`shared_key`). Предположительно, `shared_key` представляет общий секретный ключ, полученный в результате протокола обмена ключами Диффи-Хеллмана. Полученный ключ может быть использован для симметричного шифрования или других безопасностями операций."
      ],
      "metadata": {
        "id": "P7M15x6n8ejT"
      }
    },
    {
      "cell_type": "markdown",
      "source": [
        "шаг 12. Получим ключ длиной 256-бит на другой стороны"
      ],
      "metadata": {
        "id": "PqqJg-Ea_qIN"
      }
    },
    {
      "cell_type": "code",
      "source": [
        "peer_derived_key = peer_hkdf_obj.derive(peer_shared_key)"
      ],
      "metadata": {
        "id": "gIbNR1k29CJ9"
      },
      "execution_count": null,
      "outputs": []
    },
    {
      "cell_type": "markdown",
      "source": [
        "### Пояснение:\n",
        "Эта строка кода вырабатывает ключ (`peer_derived_key`) с помощью объекта HKDF (`peer_hkdf_obj`) из общего ключа (`peer_shared_key`). Обычно `peer_shared_key` представляет собой общий секретный ключ, сгенерированный через протокол обмена ключами Диффи-Хеллмана. Полученный ключ может использоваться для симметричного шифрования или других операций, связанных с безопасностью."
      ],
      "metadata": {
        "id": "N8oVJUob_7dl"
      }
    },
    {
      "cell_type": "markdown",
      "source": [
        "шаг 13. Сравним полученные ключи"
      ],
      "metadata": {
        "id": "h5BBD-kU_xIZ"
      }
    },
    {
      "cell_type": "code",
      "source": [
        "print(f\"Are keys equal: {derived_key == peer_derived_key}\")"
      ],
      "metadata": {
        "id": "DSYuPu42_0yk"
      },
      "execution_count": null,
      "outputs": []
    },
    {
      "cell_type": "markdown",
      "source": [
        "### Пояснение:\n",
        "Эта строка кода сравнивает выведенные ключи (`derived_key` и `peer_derived_key`) и выводит сообщение о том, равны ли они. Она проверяет, совпадают ли ключи, выведенные независимо с каждой стороны протокола обмена ключами Диффи-Хеллмана (`hkdf_obj` и `peer_hkdf_obj`). Результатом будет логическое значение, указывающее, совпадают ли ключи."
      ],
      "metadata": {
        "id": "AEDvYoDg9FKN"
      }
    },
    {
      "cell_type": "code",
      "source": [],
      "metadata": {
        "id": "qOZ4hPCWExXZ"
      },
      "execution_count": null,
      "outputs": []
    },
    {
      "cell_type": "code",
      "source": [],
      "metadata": {
        "id": "cj92TZweExRd"
      },
      "execution_count": null,
      "outputs": []
    },
    {
      "cell_type": "markdown",
      "source": [
        "#***2.Реализация алгоритма AES***"
      ],
      "metadata": {
        "id": "svmDKGRKEzeV"
      }
    },
    {
      "cell_type": "markdown",
      "source": [
        "AES (Advanced Encryption Standard) — это широко используемый симметричный алгоритм шифрования. Он работает с фиксированным размером блока в 128 бит и поддерживает ключи размером 128, 192 или 256 бит. AES выполняет несколько раундов операций для шифрования открытого текста в шифротекст и обратно для дешифрования. Режимы работы, такие как ECB, CBC и другие, предлагают различные свойства для шифрования. Выбор режима, размера ключа и других параметров существенно влияет на безопасность и эффективность процесса шифрования."
      ],
      "metadata": {
        "id": "nWrLmmm9FDJl"
      }
    },
    {
      "cell_type": "markdown",
      "source": [
        "шаг 1. Подключим библиотеки"
      ],
      "metadata": {
        "id": "wAqiHpG3FlxL"
      }
    },
    {
      "cell_type": "code",
      "source": [
        "import os\n",
        "from cryptography.hazmat.primitives import padding\n",
        "from cryptography.hazmat.primitives.ciphers import Cipher, algorithms, modes"
      ],
      "metadata": {
        "id": "ePYvHjlWFpdf"
      },
      "execution_count": null,
      "outputs": []
    },
    {
      "cell_type": "markdown",
      "source": [
        "### Пояснение:\n",
        "это фрагмент кода импортирует необходимые модули и функционал из библиотеки `cryptography` на языке Python для целей шифрования.\n",
        "\n",
        "- `os`: Этот модуль предоставляет способы работы с функциями операционной системы, например, генерацию случайных байтов (`os.urandom()`).\n",
        "\n",
        "- `padding`: Этот модуль из `cryptography.hazmat.primitives` содержит функции для дополнения данных, например `padding.PKCS7`, которая используется для того, чтобы убедиться, что открытый текст подходит под размер блока шифра.\n",
        "\n",
        "- `Cipher`, `algorithms`, `modes`: Это функционал из модуля `cryptography.hazmat.primitives.ciphers`.\n",
        "    - `Cipher`: Представляет симметричный шифр, облегчая шифрование и дешифрование.\n",
        "    - `algorithms`: Содержит различные алгоритмы шифрования, такие как AES, Triple DES и др.\n",
        "    - `modes`: Содержит различные режимы работы для шифрования (например, ECB, CBC, CTR), влияющие на то, как блоки открытого текста шифруются и объединяются.\n"
      ],
      "metadata": {
        "id": "uo2bQyuoF7WM"
      }
    },
    {
      "cell_type": "markdown",
      "source": [
        "шаг 2. Создадим функцию для реализации алгоритма"
      ],
      "metadata": {
        "id": "a9q6NZZEF7Tp"
      }
    },
    {
      "cell_type": "code",
      "source": [
        "def check_cipher_suite(cipher_suite, padding_algorithm):\n",
        "  # Получим объекты для шифрования и паддинга\n",
        "  encryptor = cipher_suite.encryptor()\n",
        "  padder = padding_algorithm.padder()\n",
        "  # Текст, который будем шифровать\n",
        "  plain_text = b\"ITMO\"\n",
        "  # Сделаем паддинг текста\n",
        "  padded_plain_text = padder.update(plain_text) + padder.finalize()\n",
        "  print(f\"Padded text: {padded_plain_text}\")\n",
        "  # Зашифруем текст\n",
        "  cipher_text = encryptor.update(padded_plain_text) + encryptor.finalize()\n",
        "  print(f\"Cipher text: {cipher_text}\")\n",
        "  # Получим объекты для дешифрования и анпаддинга\n",
        "  decryptor = cipher_suite.decryptor()\n",
        "  unpadder = padding_algorithm.unpadder()\n",
        "  # Получим расшифрованный текст, к которому применен паддинг\n",
        "  padded_plain_text = decryptor.update(cipher_text) + decryptor.finalize()\n",
        "  print(f\"Decrypted text: {padded_plain_text}\")\n",
        "  # Получим текст, который был зашифрован\n",
        "  plain_text = unpadder.update(padded_plain_text) + unpadder.finalize()\n",
        "  print(f\"Unpadded text: {plain_text}\")"
      ],
      "metadata": {
        "id": "E-wZXfQJGa_2"
      },
      "execution_count": null,
      "outputs": []
    },
    {
      "cell_type": "markdown",
      "source": [
        "### Пояснение:\n",
        "Эта функция на Python, `check_cipher_suite`, принимает `cipher_suite` и `padding_algorithm` для демонстрации операций шифрования и дешифрования.\n",
        "\n",
        "Вот краткое описание функции:\n",
        "\n",
        "1. **Процесс шифрования**:\n",
        "   - Получаются объекты `encryptor` и `padder` из `cipher_suite` и `padding_algorithm` соответственно.\n",
        "   - Определяется открытый текст (`b\"ITMO\"`).\n",
        "   - К открытому тексту применяется дополнение с помощью `padder`.\n",
        "   - Полученный дополненный текст шифруется с использованием `encryptor`, что дает `cipher_text`.\n",
        "\n",
        "2. **Процесс дешифрования**:\n",
        "   - Получаются объекты `decryptor` и `unpadder`.\n",
        "   - `cipher_text` дешифруется для извлечения дополненного открытого текста.\n",
        "   - К полученному дополненному тексту применяется дешифрование для получения исходного открытого текста.\n",
        "\n",
        "3. **Вывод**:\n",
        "   - Для демонстрации выводятся дополненный текст, шифрованный текст, дешифрованный текст с примененным дополнением и окончательный дешифрованный текст без дополнения.\n",
        "\n",
        "Эта функция иллюстрирует процесс шифрования и дешифрования с использованием заданного набора шифрования и алгоритма дополнения. Она представляет собой демонстрационный пример, демонстрирующий операции шифрования/дешифрования вместе с операциями дополнения."
      ],
      "metadata": {
        "id": "TF6IYLtJF7Rl"
      }
    },
    {
      "cell_type": "markdown",
      "source": [
        "шаг 3. Сгенерируем ключ и вектор инициализации"
      ],
      "metadata": {
        "id": "rlQnqbe3F7NY"
      }
    },
    {
      "cell_type": "code",
      "source": [
        "key = os.urandom(16) # 128-битовый ключ\n",
        "iv = os.urandom(16) # вектор инициализации"
      ],
      "metadata": {
        "id": "jyQB6T1YJhOt"
      },
      "execution_count": null,
      "outputs": []
    },
    {
      "cell_type": "markdown",
      "source": [
        "###Пояснение:\n",
        "Этот фрагмент кода генерирует ключ длиной 128 бит (`key`) и вектор инициализации (IV) (`iv`), которые используются в криптографических операциях, таких как шифрование AES.\n",
        "\n",
        "- `os.urandom(16)`: Генерирует последовательность из 16 случайных байтов с использованием источника случайности системы. В данном случае это используется для создания ключа длиной 128 бит.\n",
        "- `os.urandom(16)`: Аналогично генерирует еще одну последовательность из 16 байт, используемую в качестве вектора инициализации (IV). IV используется в определенных режимах работы, например, CBC (Cipher Block Chaining), чтобы гарантировать различные шифротексты даже в случае многократного шифрования одного и того же открытого текста с одним ключом.\n",
        "\n",
        "Эти значения критически важны для криптографических операций, обеспечивая случайность и уникальность ввода, необходимые для обеспечения безопасности при шифровании или дешифровании данных."
      ],
      "metadata": {
        "id": "z54c8G7pKT8m"
      }
    },
    {
      "cell_type": "markdown",
      "source": [
        "шаг 4. Создадим объект с набором инструментов для работы с AES в режиме CBC"
      ],
      "metadata": {
        "id": "_UixYc9bF7Jt"
      }
    },
    {
      "cell_type": "code",
      "source": [
        "cipher_suite = Cipher(algorithms.AES(key), modes.CBC(iv))"
      ],
      "metadata": {
        "id": "PIB3vGtmKIxw"
      },
      "execution_count": null,
      "outputs": []
    },
    {
      "cell_type": "markdown",
      "source": [
        "###Пояснение:\n",
        "Этот участок кода инициализирует набор шифрования с использованием алгоритма AES в режиме Cipher Block Chaining (CBC).\n",
        "\n",
        "- `algorithms.AES(key)`: Указывает, что алгоритм AES будет использоваться для операций шифрования и дешифрования. Здесь `key` представляет собой ключ шифрования.\n",
        "- `modes.CBC(iv)`: Выбирает режим CBC для набора шифрования и определяет вектор инициализации (IV) `iv` для этого режима.\n",
        "\n",
        "Режим шифрования CBC (Cipher Block Chaining) работает с блоками текста, объединяя зашифрованный текст одного блока с открытым текстом следующего. IV (Initialization Vector) используется для создания уникальности шифротекста: он XOR'ится с первым блоком перед шифрованием и с каждым следующим блоком в процессе шифрования, обеспечивая различные шифротексты, даже при повторном использовании ключа для одного и того же открытого текста."
      ],
      "metadata": {
        "id": "f2wEatCGF7Gp"
      }
    },
    {
      "cell_type": "markdown",
      "source": [
        "шаг 5. Для паддинга будем использовать PKCS7. Размер блока шифрования - 128 бит (AES)"
      ],
      "metadata": {
        "id": "rZ-dmsjRF7Ds"
      }
    },
    {
      "cell_type": "code",
      "source": [
        "check_cipher_suite(cipher_suite, padding.PKCS7(128))\n",
        "print()\n",
        "key = os.urandom(16) # 128-битовый ключ"
      ],
      "metadata": {
        "id": "aVQBkJE1K9EU"
      },
      "execution_count": null,
      "outputs": []
    },
    {
      "cell_type": "markdown",
      "source": [
        "###Пояснение:\n",
        "Этот фрагмент вызывает функцию `check_cipher_suite` с указанным `cipher_suite` и PKCS7-паддингом в 128 битов. После этого создается новый 128-битный ключ с помощью `os.urandom(16)`.\n",
        "\n",
        "- `check_cipher_suite(cipher_suite, padding.PKCS7(128))`: Вызывает функцию `check_cipher_suite` с указанным `cipher_suite` и паддингом PKCS7 в 128 бит.\n",
        "- `os.urandom(16)`: Генерирует новый случайный 128-битовый ключ с помощью системно-зависимого генератора случайных чисел (`os.urandom`) для обеспечения безопасности создания ключа."
      ],
      "metadata": {
        "id": "MG47AemnK1uR"
      }
    },
    {
      "cell_type": "markdown",
      "source": [
        "шаг 6. Создадим объект с набором инструментов для работы с AES в режиме ECB"
      ],
      "metadata": {
        "id": "tP2ZoME5K1lK"
      }
    },
    {
      "cell_type": "code",
      "source": [
        "cipher_suite = Cipher(algorithms.AES(key), modes.ECB())"
      ],
      "metadata": {
        "id": "hFuNDgDwLgOp"
      },
      "execution_count": null,
      "outputs": []
    },
    {
      "cell_type": "markdown",
      "source": [
        "###Пояснение:\n",
        "Этот участок кода настраивает набор шифрования с использованием алгоритма AES в режиме Electronic Codebook (ECB) с указанным ключом.\n",
        "\n",
        "- `Cipher(algorithms.AES(key), modes.ECB())`: Инициализирует набор шифрования с использованием алгоритма AES и режима ECB. `key` представляет собой ключ шифрования, который будет использоваться для операций шифрования и дешифрования AES.\n",
        "\n",
        "Режим ECB разбивает открытый текст на блоки и шифрует каждый блок независимо с использованием одного и того же ключа. Однако этот режим может иметь уязвимости из-за одинакового шифрования блоков, что приводит к образованию шаблонов или повторяющихся блоков в шифротексте. Поэтому режим ECB обычно не рекомендуется для безопасного шифрования нескольких блоков данных."
      ],
      "metadata": {
        "id": "FNeWzFgzMCWt"
      }
    },
    {
      "cell_type": "markdown",
      "source": [
        "шаг 7. Для паддинга будем использовать PKCS7. Размер блока шифрования - 128 бит (AES)"
      ],
      "metadata": {
        "id": "SvfZPvC2K1BN"
      }
    },
    {
      "cell_type": "code",
      "source": [
        "check_cipher_suite(cipher_suite, padding.PKCS7(128))\n",
        "print()\n",
        "key = os.urandom(16) # 128-битовый ключ"
      ],
      "metadata": {
        "id": "SiPjj-_iMeWe"
      },
      "execution_count": null,
      "outputs": []
    },
    {
      "cell_type": "markdown",
      "source": [
        "###Пояснение:\n",
        "Этот код вызывает функцию `check_cipher_suite` с установленным набором шифрования и паддингом PKCS7 в 128 бит. Затем создается новый случайный 128-битовый ключ с использованием `os.urandom(16)`.\n",
        "\n",
        "Функция `check_cipher_suite(cipher_suite, padding.PKCS7(128))` предположительно выполняет операции шифрования или дешифрования с использованием указанного набора шифрования и заданного паддинга PKCS7 в 128 бит. Далее, `os.urandom(16)` создает новый случайный ключ размером 128 бит для возможных последующих криптографических операций."
      ],
      "metadata": {
        "id": "8T7StBULMjyh"
      }
    },
    {
      "cell_type": "markdown",
      "source": [
        "шаг 8. Создадим объект с набором инструментов для работы с AES в режиме ECB"
      ],
      "metadata": {
        "id": "fdjDkqgHMZzE"
      }
    },
    {
      "cell_type": "code",
      "source": [
        "cipher_suite = Cipher(algorithms.AES(key), modes.ECB())"
      ],
      "metadata": {
        "id": "EnazyBpcMolR"
      },
      "execution_count": null,
      "outputs": []
    },
    {
      "cell_type": "markdown",
      "source": [
        "###Пояснение:\n",
        "Этот код создает набор шифрования с использованием алгоритма AES в режиме Electronic Codebook (ECB) с заданным ключом.\n",
        "\n",
        "- `Cipher(algorithms.AES(key), modes.ECB())`: Инициализирует набор шифрования с использованием алгоритма AES и режима ECB. Переменная `key` представляет ключ шифрования, используемый для операций шифрования и дешифрования AES.\n",
        "\n",
        "Режим ECB разбивает открытый текст на блоки фиксированного размера и шифрует каждый блок отдельно с использованием одного и того же ключа. Однако этот режим может иметь уязвимости из-за одинакового шифрования блоков, что может выявить шаблоны в шифротексте. Поэтому режим ECB обычно не рекомендуется для безопасного шифрования нескольких блоков данных."
      ],
      "metadata": {
        "id": "9Cm-pMZkNEis"
      }
    },
    {
      "cell_type": "markdown",
      "source": [
        "шаг 9. Для паддинга будем использовать ANSIX923. Размер блока шифрования - 128 бит (AES)"
      ],
      "metadata": {
        "id": "bOu4gJnYMZoi"
      }
    },
    {
      "cell_type": "code",
      "source": [
        "check_cipher_suite(cipher_suite, padding.ANSIX923(128))\n",
        "print()\n",
        "key = os.urandom(24) # 192-битовый ключ"
      ],
      "metadata": {
        "id": "o3-0h0A3M-BV"
      },
      "execution_count": null,
      "outputs": []
    },
    {
      "cell_type": "markdown",
      "source": [
        "Этот фрагмент кода, скорее всего, вызывает функцию `check_cipher_suite` с определенным набором шифрования и использованием заполнения ANSIX923 в 128 бит. Затем генерируется новый случайный ключ размером 192 бита с помощью `os.urandom(24)`.\n",
        "\n",
        "Вызов функции `check_cipher_suite(cipher_suite, padding.ANSIX923(128))` вероятно выполняет операции шифрования или дешифрования с использованием указанного набора шифрования и заполнения ANSIX923 в 128 бит. После этого `os.urandom(24)` генерирует новый случайный ключ размером 192 бита для возможных последующих криптографических операций."
      ],
      "metadata": {
        "id": "psbSLgKcNkLT"
      }
    },
    {
      "cell_type": "markdown",
      "source": [
        "шаг 10. Создадим объект с набором инструментов для работы с Camellia в режиме ECB"
      ],
      "metadata": {
        "id": "Vk9AKJpINItY"
      }
    },
    {
      "cell_type": "code",
      "source": [
        "cipher_suite = Cipher(algorithms.Camellia(key), modes.ECB())"
      ],
      "metadata": {
        "id": "2kNdWPk1NRUs"
      },
      "execution_count": null,
      "outputs": []
    },
    {
      "cell_type": "markdown",
      "source": [
        "###Пояснение:\n",
        "Этот код создает набор шифрования, используя алгоритм Camellia в режиме Electronic Codebook (ECB) с заданным ключом.\n",
        "\n",
        "- `Cipher(algorithms.Camellia(key), modes.ECB())`: Инициализирует набор шифрования с использованием алгоритма Camellia и режима ECB. Переменная `key` представляет ключ шифрования, используемый для операций шифрования и дешифрования с использованием алгоритма Camellia.\n",
        "\n",
        "Режим ECB работает путем разбиения открытого текста на блоки фиксированного размера и шифрования каждого блока отдельно с использованием одного и того же ключа. Однако, аналогично AES в режиме ECB, этот режим может иметь уязвимости из-за одинакового шифрования блоков, что может привести к образованию шаблонов в шифротексте."
      ],
      "metadata": {
        "id": "CtgQDSb5NtEO"
      }
    },
    {
      "cell_type": "markdown",
      "source": [
        "шаг 11. Для паддинга будем использовать PKCS7. Размер блока шифрования - 128 бит (Camellia)"
      ],
      "metadata": {
        "id": "Up62DmO-NWj7"
      }
    },
    {
      "cell_type": "code",
      "source": [
        "check_cipher_suite(cipher_suite, padding.PKCS7(128))\n",
        "print()"
      ],
      "metadata": {
        "id": "IDkqV1VrNdGB"
      },
      "execution_count": null,
      "outputs": []
    },
    {
      "cell_type": "markdown",
      "source": [
        "###Пояснение:\n",
        "Этот код вероятно вызывает функцию `check_cipher_suite` с установленным набором шифрования, используя алгоритм Camellia в режиме ECB и паддинг PKCS7 в 128 бит. После этого происходит вывод чего-то (возможно, результатов выполнения функции).\n",
        "\n",
        "Функция `check_cipher_suite`, возможно, выполняет операции шифрования или дешифрования с использованием указанного набора шифрования и паддинга PKCS7 в 128 бит."
      ],
      "metadata": {
        "id": "sFilfCcYNUyi"
      }
    },
    {
      "cell_type": "code",
      "source": [],
      "metadata": {
        "id": "5KTsLH-EN1y0"
      },
      "execution_count": null,
      "outputs": []
    },
    {
      "cell_type": "code",
      "source": [],
      "metadata": {
        "id": "SFVvEzj3N2pb"
      },
      "execution_count": null,
      "outputs": []
    },
    {
      "cell_type": "markdown",
      "source": [
        "# QUESTIONS"
      ],
      "metadata": {
        "id": "cQWRYwyCN4jq"
      }
    },
    {
      "cell_type": "markdown",
      "source": [
        "![image.png](data:image/png;base64,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)"
      ],
      "metadata": {
        "id": "z22QcaL7h8E9"
      }
    },
    {
      "cell_type": "code",
      "source": [
        "def list_sort(lst):\n",
        "  lst.sort(key=lambda num: (abs(num), lst), reverse=True)\n",
        "  return lst\n",
        "\n",
        "lst_nums = list(map(int, input(\"Please Enter the Numbers sep='': \").split()))\n",
        "result = list_sort(lst_nums)\n",
        "print(result)"
      ],
      "metadata": {
        "colab": {
          "base_uri": "https://localhost:8080/"
        },
        "id": "7qypwMIrOth5",
        "outputId": "a069a3a2-a414-4e35-e22e-d1ada96841c0"
      },
      "execution_count": 14,
      "outputs": [
        {
          "output_type": "stream",
          "name": "stdout",
          "text": [
            "Please Enter the Numbers sep='': -1 2 -5 19 -23 -67 99\n",
            "[99, -67, -23, 19, -5, 2, -1]\n"
          ]
        }
      ]
    },
    {
      "cell_type": "markdown",
      "source": [
        "![image.png](data:image/png;base64,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)"
      ],
      "metadata": {
        "id": "qNrdfY6vnCcL"
      }
    },
    {
      "cell_type": "code",
      "source": [
        "def useless_function(num_lst):\n",
        "  return max(num_lst) / len(num_lst)\n",
        "\n",
        "numbers = list(map(int, input('Please Enter list of numbers sep=\"\": ').split()))\n",
        "res = useless_function(numbers)\n",
        "print(res)"
      ],
      "metadata": {
        "colab": {
          "base_uri": "https://localhost:8080/"
        },
        "id": "A-6RcCrgO1yy",
        "outputId": "9339b6f8-018f-4b76-9d8a-4b6908c7941d"
      },
      "execution_count": 15,
      "outputs": [
        {
          "output_type": "stream",
          "name": "stdout",
          "text": [
            "Please Enter list of numbers sep=\"\": -1 2 -5 19 -23 -67 99\n",
            "14.142857142857142\n"
          ]
        }
      ]
    }
  ]
}