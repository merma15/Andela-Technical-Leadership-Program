{
  "nbformat": 4,
  "nbformat_minor": 0,
  "metadata": {
    "colab": {
      "provenance": []
    },
    "kernelspec": {
      "name": "python3",
      "display_name": "Python 3"
    },
    "language_info": {
      "name": "python"
    }
  },
  "cells": [
    {
      "cell_type": "markdown",
      "source": [
        "# Практическая работа №2 \"Функции и блочная организация программы\""
      ],
      "metadata": {
        "id": "smPkfGxiljT_"
      }
    },
    {
      "cell_type": "markdown",
      "source": [
        "Выполнил студент:"
      ],
      "metadata": {
        "id": "mn6_ssMilu7u"
      }
    },
    {
      "cell_type": "markdown",
      "source": [
        "# Теория"
      ],
      "metadata": {
        "id": "wFzvO4tzlyD_"
      }
    },
    {
      "cell_type": "code",
      "source": [
        "def f():\n",
        "  print('ok')"
      ],
      "metadata": {
        "id": "ZdnZ7aplluQB"
      },
      "execution_count": 2,
      "outputs": []
    },
    {
      "cell_type": "code",
      "source": [
        "f()"
      ],
      "metadata": {
        "colab": {
          "base_uri": "https://localhost:8080/"
        },
        "id": "q1Ijl1wor2Kx",
        "outputId": "6b25f28f-ba3e-4c75-c97f-1f5842d6c0ba"
      },
      "execution_count": 3,
      "outputs": [
        {
          "output_type": "stream",
          "name": "stdout",
          "text": [
            "ok\n"
          ]
        }
      ]
    },
    {
      "cell_type": "code",
      "source": [
        "def f1(x, y):\n",
        "  print(x + y)\n",
        "\n",
        "def f2(x, y):\n",
        "  return x + y"
      ],
      "metadata": {
        "id": "Ct2CBaxFr4iG"
      },
      "execution_count": 4,
      "outputs": []
    },
    {
      "cell_type": "code",
      "source": [
        "print(f1(2, 3))\n",
        "print(f2(2, 3) * 2)"
      ],
      "metadata": {
        "colab": {
          "base_uri": "https://localhost:8080/"
        },
        "id": "KhQMluvlsEQ5",
        "outputId": "05f6dd88-7521-4ab8-d8b5-94496bb704ea"
      },
      "execution_count": 8,
      "outputs": [
        {
          "output_type": "stream",
          "name": "stdout",
          "text": [
            "5\n",
            "None\n",
            "10\n"
          ]
        }
      ]
    },
    {
      "cell_type": "code",
      "source": [
        "def f3(n):\n",
        "  if n < 2:\n",
        "    print(1)\n",
        "    return 1\n",
        "  else:\n",
        "    print(n - 1)\n",
        "    return f3(n - 1)"
      ],
      "metadata": {
        "id": "YeASZFNrtHuw"
      },
      "execution_count": 11,
      "outputs": []
    },
    {
      "cell_type": "code",
      "source": [
        "print(f3(5))"
      ],
      "metadata": {
        "colab": {
          "base_uri": "https://localhost:8080/"
        },
        "id": "Akio8JzPtWqB",
        "outputId": "ea632903-1f43-4549-e0a6-d147c72b7465"
      },
      "execution_count": 12,
      "outputs": [
        {
          "output_type": "stream",
          "name": "stdout",
          "text": [
            "4\n",
            "3\n",
            "2\n",
            "1\n",
            "1\n",
            "1\n"
          ]
        }
      ]
    },
    {
      "cell_type": "markdown",
      "source": [
        "# Практика"
      ],
      "metadata": {
        "id": "39azKwxAl0M9"
      }
    },
    {
      "cell_type": "markdown",
      "source": [
        "№1 Дано действительное число А. Вычислить f(A), если f(x)=x2+4x+5 , при x<=2; в противном случае f(x)=1/(x2+4x+5).  "
      ],
      "metadata": {
        "id": "rX46bjDDl3L1"
      }
    },
    {
      "cell_type": "code",
      "source": [],
      "metadata": {
        "id": "3wx5n8Pvl2Vt"
      },
      "execution_count": null,
      "outputs": []
    },
    {
      "cell_type": "markdown",
      "source": [
        "№2 Дано действительное положительное число x и целоe число n.\n",
        "\n",
        "Вычислите xn. Решение оформите в виде функции power(x, n).\n",
        "\n",
        "Стандартной функцией возведения в степень пользоваться нельзя."
      ],
      "metadata": {
        "id": "tE65UwAXl86O"
      }
    },
    {
      "cell_type": "code",
      "source": [],
      "metadata": {
        "id": "qVejBqntmO0N"
      },
      "execution_count": null,
      "outputs": []
    },
    {
      "cell_type": "markdown",
      "source": [
        "№3 Напишите функцию fib(n), которая по данному целому неотрицательному n возвращает n-e число Фибоначчи. В этой задаче нельзя использовать циклы — используйте рекурсию."
      ],
      "metadata": {
        "id": "R9a472K6mPSh"
      }
    },
    {
      "cell_type": "code",
      "source": [],
      "metadata": {
        "id": "clW1X0Hst_9V"
      },
      "execution_count": null,
      "outputs": []
    },
    {
      "cell_type": "code",
      "source": [],
      "metadata": {
        "id": "oCxIJkSYmY2v"
      },
      "execution_count": null,
      "outputs": []
    },
    {
      "cell_type": "markdown",
      "source": [
        "№4 Дано действительное положительное число x и целое неотрицательное число n. Вычислите an не используя циклы, возведение в степень через ** и функцию math.pow(), x используя рекуррентное соотношение xn=x⋅xn-1.\n",
        "\n",
        "Решение оформите в виде функции pwr(x, n)"
      ],
      "metadata": {
        "id": "TwWSm3eumZb9"
      }
    },
    {
      "cell_type": "code",
      "source": [],
      "metadata": {
        "id": "3rDYpFMGmo5F"
      },
      "execution_count": null,
      "outputs": []
    }
  ]
}