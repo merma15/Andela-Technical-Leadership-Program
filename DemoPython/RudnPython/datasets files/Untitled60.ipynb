{
  "cells": [
    {
      "cell_type": "markdown",
      "metadata": {
        "id": "NwATHIrnz75C"
      },
      "source": [
        "Практика № 3"
      ]
    },
    {
      "cell_type": "code",
      "execution_count": 1,
      "metadata": {
        "colab": {
          "base_uri": "https://localhost:8080/"
        },
        "id": "vWj26SYDv8-n",
        "outputId": "72d35aae-dcb3-4cd5-88c6-70248f175310"
      },
      "outputs": [
        {
          "name": "stdout",
          "output_type": "stream",
          "text": [
            "10001110|00001001|11000111|10010001|ip \n",
            "11111111|11111111|11000000|00000000|mask \n"
          ]
        }
      ],
      "source": [
        "# ввходные данные\n",
        "ip = 'ip:142.9.199.145'\n",
        "mask = 'mask:255.255.192.0'\n",
        "# далее ваше решение\n",
        "\n",
        "#bin(142)[2:]\n",
        "\n",
        "def ip_f(ip, mask):\n",
        "  def avto(x):\n",
        "    name, adr = x.split(':')\n",
        "    mass = adr.split('.')\n",
        "    m = []\n",
        "    for i in mass:\n",
        "      k = len(bin(int(i))[2:])\n",
        "      if k < 8:\n",
        "        m.append((8 - k) * '0' + bin(int(i))[2:])\n",
        "      else:\n",
        "        m.append(bin(int(i))[2:])\n",
        "    for i in m:\n",
        "      print(i, end='|')\n",
        "    print(name, end=' ')\n",
        "    print()\n",
        "  avto(ip)\n",
        "  avto(mask)\n",
        "ip_f(ip, mask)"
      ]
    },
    {
      "cell_type": "code",
      "execution_count": 2,
      "metadata": {
        "colab": {
          "base_uri": "https://localhost:8080/"
        },
        "id": "IsNBUnEIv-lt",
        "outputId": "104ae26b-da15-41ab-9101-551b9f18db22"
      },
      "outputs": [
        {
          "name": "stdout",
          "output_type": "stream",
          "text": [
            "17 14 0\n"
          ]
        }
      ],
      "source": [
        "# ввходные данные\n",
        "text = \"Отсюда был виден большой запущенный сад. В глубине сада торчал неуклюжий двухэтажный сарай, и над крышею этого сарая развевался маленький красный флаг.Ольга вернулась к машине. Здесь к ней подскочила бойкая старая женщина –это была соседка, молочница. Она вызвалась прибрать дачу, вымыть окна, полы и стены.Пока соседка разбирала тазы и тряпки, Ольга взяла котенка и прошла в сад.\"\n",
        "# далее ваше решение\n",
        "\n",
        "def txt(x):\n",
        "  m = x.split(' ')\n",
        "  m = [len(i) for i in m]\n",
        "  cnt3 = 0\n",
        "  cnt5 = 0\n",
        "  cnt3_5 = 0\n",
        "\n",
        "  for i in m:\n",
        "    if (i % 3 == 0) and (i % 5 == 0):\n",
        "      cnt3_5 += 1\n",
        "    elif i % 3 == 0:\n",
        "      cnt3 += 1\n",
        "    elif i % 5 == 0:\n",
        "      cnt5 += 1\n",
        "  print(cnt3, cnt5, cnt3_5)\n",
        "txt(text)"
      ]
    },
    {
      "cell_type": "code",
      "execution_count": null,
      "metadata": {
        "id": "GEouLkK2wBDL"
      },
      "outputs": [],
      "source": []
    },
    {
      "cell_type": "markdown",
      "metadata": {
        "id": "t_Uu7tlK1Gzd"
      },
      "source": [
        "Задача 1\n",
        "Написать модуль в котором будет реализован следующий функционал:\n",
        "\n",
        "- Сложение двух чисел\n",
        "- Возведение в степен\n",
        "- Нахождение значения чисел фиббоначчи\n",
        "- Нахождение числа факториал\n"
      ]
    },
    {
      "cell_type": "code",
      "execution_count": null,
      "metadata": {
        "id": "JY0MV3ea1MYO"
      },
      "outputs": [],
      "source": [
        "def two_numbers_adition(num_1, num_2):\n",
        "   return num_1+ num_2\n",
        "\n",
        "a, b = int(input()), int(input())\n",
        "result = two_numbers_adition(a, b)\n",
        "print(result)"
      ]
    }
  ],
  "metadata": {
    "colab": {
      "provenance": []
    },
    "kernelspec": {
      "display_name": "Python 3",
      "name": "python3"
    },
    "language_info": {
      "name": "python"
    }
  },
  "nbformat": 4,
  "nbformat_minor": 0
}
