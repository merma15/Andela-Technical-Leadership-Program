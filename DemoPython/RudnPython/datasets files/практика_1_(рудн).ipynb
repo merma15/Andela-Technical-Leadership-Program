{
  "cells": [
    {
      "cell_type": "markdown",
      "metadata": {
        "id": "NzzUQBPNRH8Q"
      },
      "source": [
        "#  **Практическая работа №1. Основные элементы синтаксиса языка Python**\n",
        "\n"
      ]
    },
    {
      "cell_type": "markdown",
      "metadata": {
        "id": "dTmOsWT6Pfqd"
      },
      "source": [
        "Выполнил: (ФИО студента) <br>\n",
        "Номер группы:"
      ]
    },
    {
      "cell_type": "markdown",
      "metadata": {
        "id": "sYh-XCkdTVy0"
      },
      "source": [
        "# Теория"
      ]
    },
    {
      "cell_type": "markdown",
      "metadata": {
        "id": "3omgJmOxTaWO"
      },
      "source": [
        "**Переменные и типы данных**\n",
        "\n"
      ]
    },
    {
      "cell_type": "code",
      "execution_count": null,
      "metadata": {
        "colab": {
          "base_uri": "https://localhost:8080/"
        },
        "id": "Ej8T4kRoTqnI",
        "outputId": "92ae7970-35a4-4c3b-ee59-cad0c8bf94bb"
      },
      "outputs": [
        {
          "name": "stdout",
          "output_type": "stream",
          "text": [
            "<class 'int'> <class 'float'> <class 'str'> <class 'bool'>\n"
          ]
        }
      ],
      "source": [
        "# Переменные и типы данных\n",
        "a = 1\n",
        "b = 1.0\n",
        "c = '1'\n",
        "d = True\n",
        "print(type(a), type(b), type(c), type(d))"
      ]
    },
    {
      "cell_type": "code",
      "execution_count": null,
      "metadata": {
        "colab": {
          "base_uri": "https://localhost:8080/"
        },
        "id": "-cgekOpzXQ22",
        "outputId": "73d28c8e-6923-4ff0-f3d9-f9c18445b509"
      },
      "outputs": [
        {
          "name": "stdout",
          "output_type": "stream",
          "text": [
            "<class 'float'> <class 'str'> <class 'int'> <class 'bool'>\n"
          ]
        }
      ],
      "source": [
        "a = float(a)\n",
        "b = str(b)\n",
        "c = int(c)\n",
        "d = True\n",
        "print(type(a), type(b), type(c), type(d))"
      ]
    },
    {
      "cell_type": "markdown",
      "metadata": {
        "id": "BUQihczdUE9F"
      },
      "source": [
        "**Ввод/вывод данных**"
      ]
    },
    {
      "cell_type": "code",
      "execution_count": null,
      "metadata": {
        "colab": {
          "base_uri": "https://localhost:8080/"
        },
        "id": "aUcKg4SYULwd",
        "outputId": "431c85e6-263d-480b-e4ea-5a885ac905d8"
      },
      "outputs": [
        {
          "name": "stdout",
          "output_type": "stream",
          "text": [
            "2\n",
            "2\n"
          ]
        }
      ],
      "source": [
        "a = input()\n",
        "print(a)"
      ]
    },
    {
      "cell_type": "markdown",
      "metadata": {
        "id": "F5G5fI-AUTT1"
      },
      "source": [
        "**Арифмитические действия**"
      ]
    },
    {
      "cell_type": "code",
      "execution_count": null,
      "metadata": {
        "colab": {
          "base_uri": "https://localhost:8080/"
        },
        "id": "A4MjPT9-UcU6",
        "outputId": "97c32def-2216-41ce-ef3d-ca54d55ef0a3"
      },
      "outputs": [
        {
          "name": "stdout",
          "output_type": "stream",
          "text": [
            "5\n",
            "-1\n",
            "6\n",
            "6.0\n",
            "2.5\n",
            "2\n",
            "1\n",
            "25\n",
            "3\n"
          ]
        }
      ],
      "source": [
        "print(2 + 3)\n",
        "print(2 - 3)\n",
        "print(2 * 3)\n",
        "print(2 * 3.0)\n",
        "print(5 / 2)\n",
        "print(5 // 2)\n",
        "print(5 % 2)\n",
        "print(5 ** 2)\n",
        "print(2 + True)"
      ]
    },
    {
      "cell_type": "markdown",
      "metadata": {
        "id": "tKXMoAvtU8uL"
      },
      "source": [
        "**Строки. Срезы**"
      ]
    },
    {
      "cell_type": "code",
      "execution_count": null,
      "metadata": {
        "colab": {
          "base_uri": "https://localhost:8080/"
        },
        "id": "V2TikhV9VLSY",
        "outputId": "f2453f27-de5e-4408-9415-9168dba9100e"
      },
      "outputs": [
        {
          "name": "stdout",
          "output_type": "stream",
          "text": [
            "ч\n",
            "!\n",
            "че\n",
            "ченье - свет, а неученье - тьма\n",
            "Уче\n",
            "енье - свет, а неученье - тьма!\n",
            "Ученье - свет, а неученье - тьма\n",
            "Уеь  вт  ечне-тм!\n",
            "чне-се,ануеь  ьа\n",
            "!амьт - еьнечуен а ,тевс - еьнечУ\n"
          ]
        }
      ],
      "source": [
        "txt = 'Ученье - свет, а неученье - тьма!'\n",
        "print(txt[1])\n",
        "print(txt[-1])\n",
        "print(txt[1:3])\n",
        "print(txt[1:-1])\n",
        "print(txt[:3])\n",
        "print(txt[2:])\n",
        "print(txt[:-1])\n",
        "print(txt[::2])\n",
        "print(txt[1::2])\n",
        "print(txt[::-1])"
      ]
    },
    {
      "cell_type": "markdown",
      "metadata": {
        "id": "1ekGwFmzWeRm"
      },
      "source": [
        "**Условия выбора (if - else)**"
      ]
    },
    {
      "cell_type": "code",
      "execution_count": null,
      "metadata": {
        "colab": {
          "base_uri": "https://localhost:8080/"
        },
        "id": "vrpYqKSbWmFi",
        "outputId": "076df7dc-d065-48d4-b765-b368e458bc57"
      },
      "outputs": [
        {
          "name": "stdout",
          "output_type": "stream",
          "text": [
            "0\n"
          ]
        }
      ],
      "source": [
        "#не полная\n",
        "x = int(input())\n",
        "if x > 0:\n",
        "    print(x)\n"
      ]
    },
    {
      "cell_type": "code",
      "execution_count": null,
      "metadata": {
        "colab": {
          "base_uri": "https://localhost:8080/"
        },
        "id": "yL76A4Q2W2xi",
        "outputId": "98ef0c79-6140-4216-f2e4-f06b025cc9e0"
      },
      "outputs": [
        {
          "name": "stdout",
          "output_type": "stream",
          "text": [
            "0\n",
            "0\n"
          ]
        }
      ],
      "source": [
        "#полная\n",
        "x = int(input())\n",
        "if x > 0:\n",
        "    print(x)\n",
        "else:\n",
        "    print(-x)"
      ]
    },
    {
      "cell_type": "markdown",
      "metadata": {
        "id": "q0clwErxXoPO"
      },
      "source": [
        "**Условия выбора (if - elif - else)**"
      ]
    },
    {
      "cell_type": "code",
      "execution_count": null,
      "metadata": {
        "colab": {
          "base_uri": "https://localhost:8080/"
        },
        "id": "s9nD8arHXrkN",
        "outputId": "964518cc-b201-4e3b-8cd7-8dd55c06909b"
      },
      "outputs": [
        {
          "name": "stdout",
          "output_type": "stream",
          "text": [
            "0\n",
            "-\n"
          ]
        }
      ],
      "source": [
        "x = int(input())\n",
        "if x > 0:\n",
        "  print(x)\n",
        "elif x == 0:\n",
        "  print('-')\n",
        "else:\n",
        "  print(-x)"
      ]
    },
    {
      "cell_type": "markdown",
      "metadata": {
        "id": "nkwdWztnVftq"
      },
      "source": [
        "**Циклы for/while**"
      ]
    },
    {
      "cell_type": "code",
      "execution_count": null,
      "metadata": {
        "colab": {
          "base_uri": "https://localhost:8080/"
        },
        "id": "GlQLPHgaVshd",
        "outputId": "4f6e4feb-62c7-40b3-d9a7-a0791cbb4161"
      },
      "outputs": [
        {
          "name": "stdout",
          "output_type": "stream",
          "text": [
            "1\n",
            "2\n",
            "67\n",
            "4\n"
          ]
        }
      ],
      "source": [
        "for i in [1, 2, 67, 4]:\n",
        "  print(i)"
      ]
    },
    {
      "cell_type": "code",
      "execution_count": null,
      "metadata": {
        "colab": {
          "base_uri": "https://localhost:8080/"
        },
        "id": "SKTSXiiQV-8G",
        "outputId": "a9feb246-b806-4daf-adcf-b21de710b41f"
      },
      "outputs": [
        {
          "name": "stdout",
          "output_type": "stream",
          "text": [
            "0\n",
            "1\n",
            "2\n",
            "3\n",
            "4\n"
          ]
        }
      ],
      "source": [
        "for i in range(5):\n",
        "  print(i)"
      ]
    },
    {
      "cell_type": "code",
      "execution_count": null,
      "metadata": {
        "colab": {
          "base_uri": "https://localhost:8080/"
        },
        "id": "VAJ94aKCWEos",
        "outputId": "ad5f442a-e056-4a12-8c80-e6d822e52dc3"
      },
      "outputs": [
        {
          "data": {
            "text/plain": [
              "[0, 1, 2, 3, 4]"
            ]
          },
          "execution_count": 12,
          "metadata": {},
          "output_type": "execute_result"
        }
      ],
      "source": [
        "list(range(5))"
      ]
    },
    {
      "cell_type": "code",
      "execution_count": null,
      "metadata": {
        "colab": {
          "base_uri": "https://localhost:8080/"
        },
        "id": "m9GP1KITWH86",
        "outputId": "6af395e2-a56c-49a1-9bc5-44b9486c9f01"
      },
      "outputs": [
        {
          "data": {
            "text/plain": [
              "[0, 2, 4]"
            ]
          },
          "execution_count": 13,
          "metadata": {},
          "output_type": "execute_result"
        }
      ],
      "source": [
        "list(range(0, 5, 2))"
      ]
    },
    {
      "cell_type": "code",
      "execution_count": null,
      "metadata": {
        "colab": {
          "base_uri": "https://localhost:8080/"
        },
        "id": "p4GGAvPTWIMj",
        "outputId": "606e7e46-8f0a-4ea8-c84d-b9552b0dc548"
      },
      "outputs": [
        {
          "data": {
            "text/plain": [
              "[5, 4, 3, 2, 1]"
            ]
          },
          "execution_count": 14,
          "metadata": {},
          "output_type": "execute_result"
        }
      ],
      "source": [
        "list(range(5, 0, -1))"
      ]
    },
    {
      "cell_type": "code",
      "execution_count": null,
      "metadata": {
        "colab": {
          "base_uri": "https://localhost:8080/"
        },
        "id": "1LpiAqalWR90",
        "outputId": "ce7fcc33-421c-41e8-e436-11b324bbf1b8"
      },
      "outputs": [
        {
          "name": "stdout",
          "output_type": "stream",
          "text": [
            "0\n",
            "1\n",
            "2\n",
            "3\n",
            "4\n"
          ]
        }
      ],
      "source": [
        "x = 0\n",
        "\n",
        "while x < 5:\n",
        "  print(x)\n",
        "  x += 1"
      ]
    },
    {
      "cell_type": "markdown",
      "metadata": {
        "id": "43BF1z8hX_JI"
      },
      "source": [
        "# Практика"
      ]
    },
    {
      "cell_type": "markdown",
      "metadata": {
        "id": "F6Ht_kT7tuCO"
      },
      "source": [
        "**№1** Дано число Х.   Определить принадлежит ли это число заданному промежутку [а,b].  \n",
        "\n"
      ]
    },
    {
      "cell_type": "code",
      "execution_count": 6,
      "metadata": {
        "id": "fICt1GyquJnf"
      },
      "outputs": [
        {
          "name": "stdout",
          "output_type": "stream",
          "text": [
            "True\n"
          ]
        }
      ],
      "source": [
        "# далее ваше решение\n",
        "x = int(input()) # Донное число\n",
        "a = int(input()) # first number of the range\n",
        "b = int(input()) # second number of the range\n",
        "if x >= a and x <= b:\n",
        "   # X принадлежит заданному промежутку [а,b]\n",
        "   print('True')\n",
        "else:\n",
        "   # непринадлежит заданному промежутку [а,b]\n",
        "   print('False')"
      ]
    },
    {
      "cell_type": "markdown",
      "metadata": {
        "id": "LlICeR2uPJxZ"
      },
      "source": [
        "**№2** Определить значение функции Z=1/(XY) при произвольных X и Y.  "
      ]
    },
    {
      "cell_type": "code",
      "execution_count": null,
      "metadata": {
        "id": "hXSOoy_iPRxG"
      },
      "outputs": [],
      "source": [
        "# далее ваше решение\n",
        "# далее ваше решение\n",
        "var_X = int(input())\n",
        "var_Y = int(input())\n",
        "# В этой задачке я считал что переменые натуральные\n",
        "function_Z = 1 / ( var_X * var_Y)\n",
        "print(function_Z)\n",
        "\n",
        "# for float числа\n",
        "# var_x = float(input())\n",
        "# var_y = float(input())\n",
        "# function_z = 1 / (var_x * var_y)\n",
        "# print(function_z)"
      ]
    },
    {
      "cell_type": "markdown",
      "metadata": {
        "id": "a9TI40rfNpwZ"
      },
      "source": [
        "**№3** Даны действительные числа Х и Y.  Вычислить Z.   Z = X∗Y при X > Y, Z = ln(X+Y), в противном случае.  "
      ]
    },
    {
      "cell_type": "code",
      "execution_count": null,
      "metadata": {
        "id": "77wjawm6N5rj"
      },
      "outputs": [],
      "source": [
        "# далее ваше решение\n",
        "# далее ваше решение\n",
        "from math import log\n",
        "x = float(input())\n",
        "y = float(input())\n",
        "\n",
        "if x > y:\n",
        "   z = x * y\n",
        "else:\n",
        "   z = log(x + y) # if x < y\n",
        "\n",
        "print(z)"
      ]
    },
    {
      "cell_type": "markdown",
      "metadata": {
        "id": "PqDSMHxRvDMO"
      },
      "source": [
        "**№4** Необходимо написать программу, которая справшивает у пользователя ФИО и дату рождения, а в ответ выводит: год рождения високосный/невисокосный, его знак зодиака и кол-во его полных лет.\n",
        "\n",
        "\n",
        "```\n",
        "# Формат ввода:\n",
        "Укажите ваше ФИО и дату рождения:\n",
        "Петров Иван Игоревич, 22.04.1887\n",
        "\n",
        "#Формат вывода:\n",
        "Имя: Иван\n",
        "Отчество: Игоревич\n",
        "Фамилия: Петров\n",
        "Дата рождения: 22.04.1887\n",
        "Год: невисокосный\n",
        "Знак зодиака: овен\n",
        "Полных лет: 136\n",
        "\n",
        "\n",
        "\n",
        "```\n",
        "\n"
      ]
    },
    {
      "cell_type": "code",
      "execution_count": 7,
      "metadata": {
        "id": "m8Cdpa7nxfJI"
      },
      "outputs": [
        {
          "name": "stdout",
          "output_type": "stream",
          "text": [
            "Имя: Nhuti\n",
            "Отчество: Martin\n",
            "Фамилия: Niyo\n",
            "Год: високосный\n",
            "Полных лет: 23\n",
            "Знак зодиака: Овен\n"
          ]
        }
      ],
      "source": [
        "name = input().split()\n",
        "birthday = input().split('.')\n",
        "\n",
        "print(f'Имя: {name[1].capitalize()}')\n",
        "print(f'Отчество: {name[2].capitalize()}')\n",
        "print(f'Фамилия: {name[0].capitalize()}')\n",
        "print(f'Дата рождения: {\".\".join(birthday)}')\n",
        "if (int(birthday[2]) % 4 == 0 and int(birthday[2]) % 100 != 0) or int(birthday[2]) % 400 == 0:\n",
        "   print(f'Год: високосный')\n",
        "else:\n",
        "   print(f'Год: невисокосный')\n",
        "print(f'Полных лет: {2023 - int(birthday[2])}')\n",
        "zodiac_signs = [\n",
        "      (1, 21, 2, 20, \"Водолей\"),\n",
        "      (2, 21, 3, 20, \"Рыбы\"),\n",
        "      (3, 21, 4, 20, \"Овен\"),\n",
        "      (4, 21, 5, 20, \"Телец\"),\n",
        "      (5, 21, 6, 21, \"Близнецы\"),\n",
        "      (6, 22, 7, 22, \"Рак\"),\n",
        "      (7, 23, 8, 23, \"Лев\"),\n",
        "      (8, 24, 9, 23, \"Дева\"),\n",
        "      (9, 24, 10, 23, \"Весы\"),\n",
        "      (10, 24, 11, 22, \"Скорпион\"),\n",
        "      (11, 23, 12, 21, \"Стрелец\"),\n",
        "      (12, 22, 1, 20, \"Козерог\")\n",
        "]\n",
        "\n",
        "month, day = int(birthday[1]), int(birthday[2])\n",
        "# Determine zodiac sign\n",
        "zodiac_sign = \"\"\n",
        "for start_month, start_day, end_month, end_day, sign in zodiac_signs:\n",
        "      if (month == start_month and day >= start_day) or (month == end_month and day <= end_day):\n",
        "         zodiac_sign = sign\n",
        "         break\n",
        "print(f'Знак зодиака: {zodiac_sign}')"
      ]
    },
    {
      "cell_type": "markdown",
      "metadata": {
        "id": "ExcOTNujOD1U"
      },
      "source": [
        "**№5** Даны действительные числа:  A,   B,   C.   Определить выполняются ли неравенства А<B=B>=C и какое именно неравенство выполняется.  "
      ]
    },
    {
      "cell_type": "code",
      "execution_count": null,
      "metadata": {
        "id": "-c3l-WGjOJFD"
      },
      "outputs": [],
      "source": [
        "# далее ваше решение\n",
        "a = float(input())\n",
        "b = float(input())\n",
        "c = float(input())\n",
        "\n",
        "if (a < b) and (b >= c):\n",
        "   print('Выполняется неравенство A < B и B >= C')\n",
        "elif a < b:\n",
        "   print('Выполняется неравенство A < B')\n",
        "elif b >= c:\n",
        "   print('Выполняется неравенство B >= C')\n",
        "else:\n",
        "   print('Ни одно из неравенств не выполняется')\n"
      ]
    },
    {
      "cell_type": "markdown",
      "metadata": {
        "id": "b3d37hS2OKnc"
      },
      "source": [
        "**№6** Даны действительные   положительные числа а,   b, с,   d. Выясните, может ли прямоугольник со сторонами a,b   уместиться внутри прямоугольника со сторонами c,d  так, чтобы каждая сторона внутреннего прямоугольника была параллельна или перпендикулярна стороне внешнего прямоугольника."
      ]
    },
    {
      "cell_type": "code",
      "execution_count": null,
      "metadata": {
        "id": "Ncv1qxoAOoNs"
      },
      "outputs": [],
      "source": [
        "# далее ваше решение\n",
        "a,b,c,d = map(int, input().split())\n",
        "\n",
        "if (a <= c and b <= d) or ( a <= d and b <= c):\n",
        "   print(f'Прямоугольник со сторонами  {a},{b} может уместиться внутри прямоугольника со сторонами  {c},{d}.')\n",
        "else:\n",
        "   print(f'Прямоугольник со сторонами  {a},{b} не может уместиться внутри прямоугольника со сторонами  {c},{d}.')"
      ]
    },
    {
      "cell_type": "markdown",
      "metadata": {
        "id": "nMO-ZcVYRVYX"
      },
      "source": [
        "**№7**\n",
        "Дана строка **text**, необходимо написать программу, которая найдет:\n",
        "\n",
        "\n",
        "1.   сумму чисел в данной строке,\n",
        "2.   количество чисел,\n",
        "3.   количество чисел **int**\n",
        "4.   кол-во чисел **float**\n",
        "5.   кол-во цифр\n",
        "\n",
        "\n",
        "\n",
        "\n"
      ]
    },
    {
      "cell_type": "code",
      "execution_count": 1,
      "metadata": {
        "id": "lIGBgnGpRL84"
      },
      "outputs": [
        {
          "name": "stdout",
          "output_type": "stream",
          "text": [
            "Сумма чисел в данной строке: 123660.43000000999\n",
            "Kоличество чисел int: 7\n",
            "Kоличество чисел float: 4\n",
            "Kоличество чисел: 11\n",
            "Kоличество цифр: 38\n"
          ]
        }
      ],
      "source": [
        "text = '20 1.0 5 43 .03 23 56 3.4 123455 0.00000001 54 34,5'\n",
        "# далее ваше решение\n",
        "\n",
        "# split the text given into a list of words\n",
        "texts = text.split()\n",
        "\n",
        "# Initializing counters\n",
        "sum_of_numbers = 0\n",
        "int_count = 0\n",
        "float_count = 0\n",
        "digit_count = 0\n",
        "\n",
        "\n",
        "for word in texts:\n",
        "  is_float = False\n",
        "  is_int = True\n",
        "\n",
        "  for character in word:\n",
        "    if character.isdigit():\n",
        "      digit_count += 1\n",
        "    elif character ==  '.' and is_int:\n",
        "      is_float = True\n",
        "      is_int = False\n",
        "      digit_count += 1\n",
        "    else:\n",
        "      is_int = False\n",
        "      break\n",
        "\n",
        "  if is_int:\n",
        "    int_count += 1\n",
        "    sum_of_numbers += int(word)\n",
        "  elif is_float:\n",
        "    float_count += 1\n",
        "    sum_of_numbers += float(word)\n",
        "\n",
        "# Count the total number of numbers founded\n",
        "total_numbers = int_count + float_count\n",
        "\n",
        "print(f'Сумма чисел в данной строке: {sum_of_numbers}')\n",
        "print(f'Kоличество чисел int: {int_count}')\n",
        "print(f'Kоличество чисел float: {float_count}')\n",
        "print(f'Kоличество чисел: {total_numbers}')\n",
        "print(f'Kоличество цифр: {digit_count}')\n",
        "\n"
      ]
    },
    {
      "cell_type": "markdown",
      "metadata": {
        "id": "PRNm-rvJTV5q"
      },
      "source": [
        "**№8** Необходимо написать программу для перевода чисел из списка **mass** в следующие системы счисления:\n",
        "\n",
        "\n",
        "1.   2-ю\n",
        "2.   8-ю\n",
        "3.  16-ю\n",
        "4.  3-ю\n",
        "5.  5-ю\n",
        "\n",
        "---\n",
        "\n",
        "\n",
        "\n",
        "\n",
        "\n",
        "\n"
      ]
    },
    {
      "cell_type": "code",
      "execution_count": 8,
      "metadata": {
        "id": "uQZ7DkpqSw1Z"
      },
      "outputs": [
        {
          "name": "stdout",
          "output_type": "stream",
          "text": [
            "Перевод чисел в 2-ю системy счисления: [1100, 1000011010001101, 111001000, 1101000010110, 10001100011, 101011, 0, 11000000110100]\n",
            "Перевод чисел в 8-ю системy счисления: [14, 103215, 710, 15026, 2143, 53, 0, 30064]\n",
            "Перевод чисел в 16-ю системy счисления: ['C', '868D', '1C8', '1A16', '463', '2B', '0', '3034']\n",
            "Перевод чисел в 3-ю системy счисления: ['110', '1202020202110', '1212201202020202110', '1000111001212201202020202110', '11121211000111001212201202020202110', '112111121211000111001212201202020202110', '112111121211000111001212201202020202110', '121221001112111121211000111001212201202020202110']\n",
            "Перевод чисел в 2-ю системy счисления: ['22', '210024022', '3311210024022', '2032033311210024022', '134432032033311210024022', '133134432032033311210024022', '133134432032033311210024022', '343330133134432032033311210024022']\n"
          ]
        }
      ],
      "source": [
        "# ввходные данные ()\n",
        "a = [12, 34445, 456, 6678, 1123, 43, 0, 12340]\n",
        "# далее ваше решение\n",
        "a_binary = [int(bin(i)[2:]) for i in a] # in binary numbers\n",
        "a_octadecimal = [int(oct(i)[2:]) for i in a] # in octadecimal numbers base 8\n",
        "a_hexadecimal = [hex(i)[2:].upper() for i in a] # in hexadecimal numbers base 16\n",
        "\n",
        "\n",
        "# In Base 3\n",
        "base_3 = []\n",
        "base_3_reslut = ''\n",
        "for i in a:\n",
        "  while i > 0:\n",
        "    base_3_reslut = str(i % 3) + base_3_reslut\n",
        "    i = i // 3\n",
        "  base_3.append(base_3_reslut)\n",
        "\n",
        "# In Base 5\n",
        "base_5 = []\n",
        "base_5_res = ''\n",
        "for j in a:\n",
        "  while j > 0:\n",
        "    base_5_res = str(j % 5) + base_5_res\n",
        "    j //= 5\n",
        "  base_5.append(base_5_res)\n",
        "\n",
        "print(f'Перевод чисел в 2-ю системy счисления: {a_binary}')\n",
        "print(f'Перевод чисел в 8-ю системy счисления: {a_octadecimal}')\n",
        "print(f'Перевод чисел в 16-ю системy счисления: {a_hexadecimal}')\n",
        "print(f'Перевод чисел в 3-ю системy счисления: {base_3}')\n",
        "print(f'Перевод чисел в 2-ю системy счисления: {base_5}')\n",
        "\n",
        "\n"
      ]
    },
    {
      "cell_type": "markdown",
      "metadata": {
        "id": "bTkXrvCoYiUD"
      },
      "source": [
        "**№9** Даны **ip** и mask, необходимо написать программу которая принимает их и после обработки выводит результат вида:\n",
        "\n",
        "\n",
        "```\n",
        "10001110|00001001|11000111|10010001| ip\n",
        "11111111|11111111|11000000|00000000| mask\n",
        "```\n",
        "\n"
      ]
    },
    {
      "cell_type": "code",
      "execution_count": 9,
      "metadata": {
        "id": "OKKCIwQlUGlG"
      },
      "outputs": [
        {
          "name": "stdout",
          "output_type": "stream",
          "text": [
            "10001110|1001|11000111|10010001| ip\n",
            "11111111|11111111|11000000|0| mask\n"
          ]
        }
      ],
      "source": [
        "# ввходные данные\n",
        "ip = 'ip:142.9.199.145'\n",
        "mask = 'mask:255.255.192.0'\n",
        "# далее ваше решение\n",
        "\n",
        "ip_split = ip.split(':')\n",
        "ip_numbers = ip_split[1].split('.')\n",
        "mask_split = mask.split(':')\n",
        "mask_numbers = mask_split[1].split('.')\n",
        "# To put our ip address in the format of 8-digit we can use zflill(8)\n",
        "print(f'{bin(int(ip_numbers[0]))[2:]}|{bin(int(ip_numbers[1]))[2:]}|{bin(int(ip_numbers[2]))[2:]}|{bin(int(ip_numbers[3]))[2:]}| ip')\n",
        "print(f'{bin(int(mask_numbers[0]))[2:]}|{bin(int(mask_numbers[1]))[2:]}|{bin(int(mask_numbers[2]))[2:]}|{bin(int(mask_numbers[3]))[2:]}| mask')\n"
      ]
    },
    {
      "cell_type": "markdown",
      "metadata": {
        "id": "tBDolWt4an5Z"
      },
      "source": [
        "**№10** Дан отрывок произведения **text**, необходимо написать программу, которая подсчитает длины слов в нем и найдет:\n",
        "\n",
        "\n",
        "1.   сколько слов имеет длину кратную 3\n",
        "2.   сколько слов имеет длину кратную 5\n",
        "3.   сколько слов имеет длину кратную 3 и 5\n",
        "\n",
        "Словом считается любая последовательность символов, кроме \" \" (пробел)\n",
        "\n"
      ]
    },
    {
      "cell_type": "code",
      "execution_count": 10,
      "metadata": {
        "id": "CrIhmQ9jaTGJ"
      },
      "outputs": [
        {
          "name": "stdout",
          "output_type": "stream",
          "text": [
            "['Отсюда', 'был', 'виден', 'большой', 'запущенный', 'сад.', 'В', 'глубине', 'сада', 'торчал', 'неуклюжий', 'двухэтажный', 'сарай,', 'и', 'над', 'крышею', 'этого', 'сарая', 'развевался', 'маленький', 'красный', 'флаг.Ольга', 'вернулась', 'к', 'машине.', 'Здесь', 'к', 'ней', 'подскочила', 'бойкая', 'старая', 'женщина', '–это', 'была', 'соседка,', 'молочница.', 'Она', 'вызвалась', 'прибрать', 'дачу,', 'вымыть', 'окна,', 'полы', 'и', 'стены.Пока', 'соседка', 'разбирала', 'тазы', 'и', 'тряпки,', 'Ольга', 'взяла', 'котенка', 'и', 'прошла', 'в', 'сад.']\n",
            "[6, 3, 5, 7, 10, 4, 1, 7, 4, 6, 9, 11, 6, 1, 3, 6, 5, 5, 10, 9, 7, 10, 9, 1, 7, 5, 1, 3, 10, 6, 6, 7, 4, 4, 8, 10, 3, 9, 8, 5, 6, 5, 4, 1, 10, 7, 9, 4, 1, 7, 5, 5, 7, 1, 6, 1, 4]\n",
            "Слова имеют длину кратную 3: 17\n",
            "слова имеют длину кратную 5: 14\n",
            "Слова имеют длину кратную 3 и 5: 0\n"
          ]
        }
      ],
      "source": [
        "# ввходные данные\n",
        "text = \"Отсюда был виден большой запущенный сад. В глубине сада торчал неуклюжий двухэтажный сарай, и над крышею этого сарая развевался маленький красный флаг.Ольга вернулась к машине. Здесь к ней подскочила бойкая старая женщина –это была соседка, молочница. Она вызвалась прибрать дачу, вымыть окна, полы и стены.Пока соседка разбирала тазы и тряпки, Ольга взяла котенка и прошла в сад.\"\n",
        "# далее ваше решение\n",
        "\n",
        "words = text.split()\n",
        "words_len = [len(word) for word in words]\n",
        "count_multiple_of_3 = 0\n",
        "count_multiple_of_5 = 0\n",
        "count_multiple_of_3_and_5 = 0\n",
        "for word in words:\n",
        "  if len(word) % 3 == 0:\n",
        "    count_multiple_of_3 += 1\n",
        "  \n",
        "  if len(word) % 5 == 0:\n",
        "    count_multiple_of_5 += 1\n",
        "\n",
        "  if len(word) % 3 == 0 and len(word) % 5 == 0:\n",
        "    count_multiple_of_3_and_5 += 1\n",
        "print(words)\n",
        "print(words_len)\n",
        "print(f'Слова имеют длину кратную 3: {count_multiple_of_3}')\n",
        "print(f'слова имеют длину кратную 5: {count_multiple_of_5}')\n",
        "print(f'Слова имеют длину кратную 3 и 5: {count_multiple_of_3_and_5}')"
      ]
    },
    {
      "cell_type": "code",
      "execution_count": null,
      "metadata": {
        "id": "CYmOO5SBcYxa"
      },
      "outputs": [],
      "source": []
    }
  ],
  "metadata": {
    "colab": {
      "provenance": []
    },
    "kernelspec": {
      "display_name": "Python 3",
      "name": "python3"
    },
    "language_info": {
      "codemirror_mode": {
        "name": "ipython",
        "version": 3
      },
      "file_extension": ".py",
      "mimetype": "text/x-python",
      "name": "python",
      "nbconvert_exporter": "python",
      "pygments_lexer": "ipython3",
      "version": "3.11.6"
    }
  },
  "nbformat": 4,
  "nbformat_minor": 0
}
